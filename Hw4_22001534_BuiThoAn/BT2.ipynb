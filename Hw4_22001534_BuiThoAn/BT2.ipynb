{
 "cells": [
  {
   "metadata": {},
   "cell_type": "markdown",
   "source": [
    "# Bài toán tìm cặp điểm gần nhất (Closest pair of point)\n",
    "\n",
    "## 1. Phân tích bài toán\n",
    "\n",
    "- **Đầu vào:** Một tập hợp `P` gồm `n` điểm trên mặt phẳng tọa độ 2D, mỗi điểm được biểu diễn dưới dạng `(x, y)`.\n",
    "\n",
    "- **Đầu ra:** Hai điểm trong tập hợp có khoảng cách Euclidean nhỏ nhất.\n",
    "\n",
    "### Khoảng cách Euclidean\n",
    "Khoảng cách giữa hai điểm `p1(x1, y1)` và `p2(x2, y2)` được tính bằng công thức:\n",
    "\n",
    "\\[\n",
    "d(p_1, p_2) = \\sqrt{(x_1 - x_2)^2 + (y_1 - y_2)^2}\n",
    "\\]\n",
    "\n",
    "---\n",
    "\n",
    "## 2. Các phương pháp giải bài toán\n",
    "\n",
    "### 2.1 Phương pháp Brute Force (O(n²))\n",
    "Cách đơn giản nhất là kiểm tra khoảng cách của mọi cặp điểm, sau đó chọn cặp có khoảng cách nhỏ nhất.\n",
    "\n",
    "#### Thuật toán\n",
    "1. Khởi tạo giá trị `min_distance = ∞`.\n",
    "2. Lặp qua tất cả các cặp điểm `(p_i, p_j)` với `i ≠ j`.\n",
    "3. Tính khoảng cách `d(p_i, p_j)`.\n",
    "4. Nếu `d(p_i, p_j) < min_distance`, cập nhật `min_distance`.\n",
    "5. Trả về cặp điểm có khoảng cách nhỏ nhất.\n",
    "\n",
    "#### Độ phức tạp\n",
    "Do có `n(n-1)/2` cặp điểm, thuật toán có độ phức tạp **O(n²)**.\n",
    "\n",
    "---\n",
    "\n",
    "### 2.2 Phương pháp Chia để Trị (Divide and Conquer) - O(n log n)\n",
    "Cách tối ưu hơn sử dụng **chia để trị**, giúp giảm độ phức tạp xuống **O(n log n)**.\n",
    "\n",
    "#### Thuật toán\n",
    "1. **Sắp xếp tập hợp điểm** theo tọa độ `x`.\n",
    "2. **Chia đôi tập điểm** thành hai phần bằng nhau.\n",
    "3. **Gọi đệ quy** để tìm cặp điểm gần nhất ở từng phần.\n",
    "4. **Tìm cặp điểm gần nhất giữa hai nửa** bằng cách kiểm tra các điểm nằm gần đường chia dọc.\n",
    "5. Trả về khoảng cách nhỏ nhất trong ba trường hợp trên.\n",
    "\n",
    "#### Phân tích độ phức tạp\n",
    "- Bước sắp xếp: `O(n log n)`.\n",
    "- Mỗi lần chia làm hai phần: `O(log n)` lần đệ quy.\n",
    "- Tìm cặp điểm gần nhất trong vùng dọc mất `O(n)`.\n",
    "\n",
    "Tổng thời gian chạy:\n",
    "\n",
    "\\[\n",
    "T(n) = 2T(n/2) + O(n)\n",
    "\\]\n",
    "\n",
    "Giải bằng phương pháp **chia để trị**, ta có **O(n log n)**."
   ],
   "id": "edd820464e878bd7"
  },
  {
   "cell_type": "code",
   "id": "initial_id",
   "metadata": {
    "collapsed": true,
    "ExecuteTime": {
     "end_time": "2025-03-11T14:57:33.653254Z",
     "start_time": "2025-03-11T14:57:33.621391Z"
    }
   },
   "source": [
    "import math\n",
    "\n",
    "def distance(p1, p2):\n",
    "    return math.sqrt((p1[0] - p2[0]) ** 2 + (p1[1] - p2[1]) ** 2)\n",
    "\n",
    "def brute_force(points):\n",
    "    min_dist = float('inf')\n",
    "    closest_pair = None\n",
    "    n = len(points)\n",
    "    for i in range(n):\n",
    "        for j in range(i + 1, n):\n",
    "            d = distance(points[i], points[j])\n",
    "            if d < min_dist:\n",
    "                min_dist = d\n",
    "                closest_pair = (points[i], points[j])\n",
    "    return min_dist, closest_pair\n",
    "\n",
    "def strip_closest(strip, d):\n",
    "    min_dist = d\n",
    "    closest_pair = None\n",
    "    strip.sort(key=lambda point: point[1])\n",
    "\n",
    "    for i in range(len(strip)):\n",
    "        for j in range(i + 1, min(i + 7, len(strip))):\n",
    "            d = distance(strip[i], strip[j])\n",
    "            if d < min_dist:\n",
    "                min_dist = d\n",
    "                closest_pair = (strip[i], strip[j])\n",
    "    return min_dist, closest_pair\n",
    "\n",
    "def closest_util(points):\n",
    "    if len(points) <= 3:\n",
    "        return brute_force(points)\n",
    "\n",
    "    mid = len(points) // 2\n",
    "    mid_point = points[mid]\n",
    "\n",
    "    dl, pair_l = closest_util(points[:mid])\n",
    "    dr, pair_r = closest_util(points[mid:])\n",
    "\n",
    "    if dl < dr:\n",
    "        d = dl\n",
    "        closest_pair = pair_l\n",
    "    else:\n",
    "        d = dr\n",
    "        closest_pair = pair_r\n",
    "\n",
    "    strip = [p for p in points if abs(p[0] - mid_point[0]) < d]\n",
    "\n",
    "    d_strip, pair_strip = strip_closest(strip, d)\n",
    "\n",
    "    if d_strip < d:\n",
    "        return d_strip, pair_strip\n",
    "    else:\n",
    "        return d, closest_pair\n",
    "\n",
    "def closest_pair(points):\n",
    "    points.sort()\n",
    "    return closest_util(points)\n",
    "\n",
    "points = [(2, 9), (12, 30), (40, 50), (5, 1), (12, 10), (3, 4)]\n",
    "min_dist, pair = closest_pair(points)\n",
    "print(\"Cặp điểm gần nhất:\", pair, \"với khoảng cách:\", min_dist)\n"
   ],
   "outputs": [
    {
     "name": "stdout",
     "output_type": "stream",
     "text": [
      "Cặp điểm gần nhất: ((3, 4), (5, 1)) với khoảng cách: 3.605551275463989\n"
     ]
    }
   ],
   "execution_count": 1
  },
  {
   "metadata": {},
   "cell_type": "markdown",
   "source": "## Bài toán tìm bao lồi (Convex-Hull problem)",
   "id": "bce54759df526c3c"
  },
  {
   "metadata": {
    "ExecuteTime": {
     "end_time": "2025-03-11T14:57:36.247661Z",
     "start_time": "2025-03-11T14:57:35.619125Z"
    }
   },
   "cell_type": "code",
   "source": [
    "import matplotlib.pyplot as plt\n",
    "\n",
    "def orientation(p, q, r):\n",
    "    \"\"\"Tính hướng của bộ ba điểm (p, q, r).\"\"\"\n",
    "    val = (q[1] - p[1]) * (r[0] - q[0]) - (q[0] - p[0]) * (r[1] - q[1])\n",
    "    if val == 0:\n",
    "        return 0\n",
    "    return 1 if val > 0 else -1\n",
    "\n",
    "def convex_hull(points):\n",
    "    \"\"\"Thuật toán Graham Scan để tìm bao lồi.\"\"\"\n",
    "    points = sorted(points)\n",
    "    if len(points) < 3:\n",
    "        return points\n",
    "\n",
    "    lower = []\n",
    "    for p in points:\n",
    "        while len(lower) >= 2 and orientation(lower[-2], lower[-1], p) != -1:\n",
    "            lower.pop()\n",
    "        lower.append(p)\n",
    "\n",
    "    upper = []\n",
    "    for p in reversed(points):\n",
    "        while len(upper) >= 2 and orientation(upper[-2], upper[-1], p) != -1:\n",
    "            upper.pop()\n",
    "        upper.append(p)\n",
    "\n",
    "    return lower[:-1] + upper[:-1]  # Loại bỏ điểm trùng lặp\n",
    "\n",
    "points = [(2, 9), (12, 30), (40, 50), (5, 1), (12, 10), (3, 4), (0,0)]\n",
    "hull = convex_hull(points)\n",
    "\n",
    "plt.scatter(*zip(*points), color='blue')\n",
    "hull.append(hull[0])  # Đóng đa giác\n",
    "plt.plot(*zip(*hull), color='red', linestyle='-', linewidth=2, label='Convex Hull')\n",
    "plt.legend()\n",
    "plt.show()"
   ],
   "id": "727193ed045986df",
   "outputs": [
    {
     "data": {
      "text/plain": [
       "<Figure size 640x480 with 1 Axes>"
      ],
      "image/png": "[encoded data removed]"
     },
     "metadata": {},
     "output_type": "display_data"
    }
   ],
   "execution_count": 2
  },
  {
   "metadata": {},
   "cell_type": "markdown",
   "source": "## Bài toán tìm đồng xu giả (Fake Coin problem)",
   "id": "d77ce43b5c8f7733"
  },
  {
   "metadata": {
    "jupyter": {
     "is_executing": true
    },
    "ExecuteTime": {
     "start_time": "2025-03-11T14:58:17.881440Z"
    }
   },
   "cell_type": "code",
   "source": [
    "import random\n",
    "\n",
    "def weigh(group1, group2):\n",
    "    \"\"\"\n",
    "    So sánh khối lượng của hai nhóm đồng xu.\n",
    "    Trả về:\n",
    "    -1 nếu nhóm 1 nhẹ hơn\n",
    "     1 nếu nhóm 1 nặng hơn\n",
    "     0 nếu hai nhóm bằng nhau\n",
    "    \"\"\"\n",
    "    weight1 = sum(group1)\n",
    "    weight2 = sum(group2)\n",
    "    if weight1 < weight2:\n",
    "        return -1\n",
    "    elif weight1 > weight2:\n",
    "        return 1\n",
    "    return 0\n",
    "\n",
    "def find_fake_coin(coins, left, right):\n",
    "    n = right - left + 1\n",
    "    if n == 1:\n",
    "        return left\n",
    "\n",
    "    third = n // 3\n",
    "    group1 = coins[left:left + third]\n",
    "    group2 = coins[left + third:left + 2 * third]\n",
    "    group3 = coins[left + 2 * third:right + 1] if 2 * third < n else []\n",
    "\n",
    "    result = weigh(group1, group2)\n",
    "\n",
    "    if result == 0:\n",
    "        return find_fake_coin(coins, left + 2 * third, right)\n",
    "    elif result == -1:\n",
    "        return find_fake_coin(coins, left, left + third - 1)\n",
    "    else:\n",
    "        return find_fake_coin(coins, left + third, left + 2 * third - 1)\n",
    "\n",
    "n = 20\n",
    "coins = [10] * n\n",
    "fake_index = random.randint(0, n - 1)\n",
    "coins[fake_index] = 9\n",
    "\n",
    "found_index = find_fake_coin(coins, 0, n - 1)\n",
    "print(f\"Đồng xu giả nằm ở vị trí: {found_index} (Giá trị thật: {fake_index})\")\n"
   ],
   "id": "5dce1b8cca183f35",
   "outputs": [],
   "execution_count": null
  },
  {
   "metadata": {},
   "cell_type": "markdown",
   "source": "## Phương pháp khử Gauss: giải hệ PT; tính định thức; tìm ma trận nghịch đảo (Gaussian Elimination)",
   "id": "fc9f1e345b9192c7"
  }
 ],
 "metadata": {
  "kernelspec": {
   "display_name": "Python 3",
   "language": "python",
   "name": "python3"
  },
  "language_info": {
   "codemirror_mode": {
    "name": "ipython",
    "version": 2
   },
   "file_extension": ".py",
   "mimetype": "text/x-python",
   "name": "python",
   "nbconvert_exporter": "python",
   "pygments_lexer": "ipython2",
   "version": "2.7.6"
  }
 },
 "nbformat": 4,
 "nbformat_minor": 5
}
