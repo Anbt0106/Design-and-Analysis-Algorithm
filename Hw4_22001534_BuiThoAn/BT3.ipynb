{
 "cells": [
  {
   "cell_type": "code",
   "id": "initial_id",
   "metadata": {
    "collapsed": true,
    "ExecuteTime": {
     "end_time": "2025-03-11T14:11:13.013546Z",
     "start_time": "2025-03-11T14:11:12.997931Z"
    }
   },
   "source": [
    "def tile_board(board, size, r, c):\n",
    "    global tile\n",
    "    tile += 1\n",
    "    t = tile\n",
    "\n",
    "    if size == 2:\n",
    "        for i in range(2):\n",
    "            for j in range(2):\n",
    "                if board[r + i][c + j] == 0:\n",
    "                    board[r + i][c + j] = t\n",
    "        return\n",
    "\n",
    "    mid = size // 2\n",
    "\n",
    "    hole_quad = (r < r + mid, c < c + mid)\n",
    "\n",
    "    for i, j in [(0, 0), (0, 1), (1, 0), (1, 1)]:\n",
    "        nr, nc = r + mid * i, c + mid * j\n",
    "        if (nr <= r + mid - 1 and nc <= c + mid - 1) == hole_quad:\n",
    "            continue\n",
    "        board[nr + mid - 1][nc + mid - 1] = t\n",
    "\n",
    "    for i, j in [(0, 0), (0, 1), (1, 0), (1, 1)]:\n",
    "        nr, nc = r + mid * i, c + mid * j\n",
    "        tile_board(board, mid, nr, nc)\n",
    "\n",
    "def solve_tiling(n, hole_x, hole_y):\n",
    "    global tile\n",
    "    tile = 0\n",
    "    size = 2 ** n\n",
    "    board = [[0] * size for _ in range(size)]\n",
    "    board[hole_x][hole_y] = -1\n",
    "\n",
    "    tile_board(board, size, 0, 0)\n",
    "    return board\n",
    "\n",
    "\n",
    "n = 3  # 2^3 x 2^3\n",
    "hole_x, hole_y = 3, 3\n",
    "result = solve_tiling(n, hole_x, hole_y)\n",
    "\n",
    "for row in result:\n",
    "    print(\" \".join(f\"{x:2}\" for x in row))"
   ],
   "outputs": [
    {
     "name": "stdout",
     "output_type": "stream",
     "text": [
      " 3  3  4  4  8  8  9  9\n",
      " 3  2  4  2  8  7  9  7\n",
      " 5  5  6  6 10 10 11 11\n",
      " 5  2  6  2 10  7 11  7\n",
      "13 13 14 14 18 18 19 19\n",
      "13 12 14 12 18 17 19 17\n",
      "15 15 16 16 20 20 21 21\n",
      "15 12 16 12 20 17 21 17\n"
     ]
    }
   ],
   "execution_count": 13
  }
 ],
 "metadata": {
  "kernelspec": {
   "display_name": "Python 3",
   "language": "python",
   "name": "python3"
  },
  "language_info": {
   "codemirror_mode": {
    "name": "ipython",
    "version": 2
   },
   "file_extension": ".py",
   "mimetype": "text/x-python",
   "name": "python",
   "nbconvert_exporter": "python",
   "pygments_lexer": "ipython2",
   "version": "2.7.6"
  }
 },
 "nbformat": 4,
 "nbformat_minor": 5
}
