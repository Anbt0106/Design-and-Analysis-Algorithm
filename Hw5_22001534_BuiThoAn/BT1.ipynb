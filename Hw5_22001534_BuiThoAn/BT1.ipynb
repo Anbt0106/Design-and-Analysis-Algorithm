{
 "cells": [
  {
   "metadata": {},
   "cell_type": "markdown",
   "source": "## 1. Khớp xâu: Tìm các vị trí xuất hiện của xâu mẫu P trong văn bản T cho trước.",
   "id": "daf11fd4e6f8d10d"
  },
  {
   "cell_type": "code",
   "execution_count": null,
   "id": "initial_id",
   "metadata": {
    "collapsed": true
   },
   "outputs": [],
   "source": ""
  },
  {
   "metadata": {},
   "cell_type": "markdown",
   "source": "## 4. Bài toán xếp hậu: Cho một bàn cờ vua có kích thước n × n. Biết rằng, một quân hậu trên bàn cờ có thể ăn được các quân khác tại các ô cùng hàng, cùng cột hoặc cùng đường chéo. Tìm cách xếp n quân hậu trên bàn cờ sao cho không quân hậu nào ăn quân hậu nào.",
   "id": "330dcedc21bc4d0"
  },
  {
   "metadata": {},
   "cell_type": "code",
   "outputs": [],
   "execution_count": null,
   "source": "def sol_Queen(i):\n",
   "id": "7f547e17b827a5ad"
  }
 ],
 "metadata": {
  "kernelspec": {
   "display_name": "Python 3",
   "language": "python",
   "name": "python3"
  },
  "language_info": {
   "codemirror_mode": {
    "name": "ipython",
    "version": 2
   },
   "file_extension": ".py",
   "mimetype": "text/x-python",
   "name": "python",
   "nbconvert_exporter": "python",
   "pygments_lexer": "ipython2",
   "version": "2.7.6"
  }
 },
 "nbformat": 4,
 "nbformat_minor": 5
}
