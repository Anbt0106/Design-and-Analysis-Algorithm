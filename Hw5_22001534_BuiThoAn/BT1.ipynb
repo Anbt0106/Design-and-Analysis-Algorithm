{
 "cells": [
  {
   "metadata": {},
   "cell_type": "markdown",
   "source": "## 1. Khớp xâu: Tìm các vị trí xuất hiện của xâu mẫu P trong văn bản T cho trước.",
   "id": "daf11fd4e6f8d10d"
  },
  {
   "cell_type": "code",
   "id": "initial_id",
   "metadata": {
    "collapsed": true,
    "ExecuteTime": {
     "end_time": "2025-03-25T15:39:50.059956Z",
     "start_time": "2025-03-25T15:39:50.033894Z"
    }
   },
   "source": [
    "import random\n",
    "\n",
    "\n",
    "# brute force algorithm\n",
    "def brute_force_match(T, P):\n",
    "    n, m = len(T), len(P)\n",
    "    positions = []\n",
    "    for i in range(n - m + 1):\n",
    "        if T[i:i + m] == P:  # So sánh từng đoạn con với P\n",
    "            positions.append(i)\n",
    "    return positions\n",
    "\n",
    "\n",
    "def backtrack_match(T, P):\n",
    "    def search(i, j):\n",
    "        if j == len(P):  # Nếu khớp toàn bộ P\n",
    "            positions.append(i - j)\n",
    "            search(i - j + 1, 0)  # Tiếp tục tìm kiếm sau khi tìm thấy\n",
    "\n",
    "        elif i < len(T):  # Nếu chưa duyệt hết T\n",
    "            if T[i] == P[j]:  # Nếu ký tự khớp\n",
    "                search(i + 1, j + 1)\n",
    "            else:  # Nếu không khớp\n",
    "                search(i - j + 1, 0)\n",
    "\n",
    "    positions = []\n",
    "    search(0, 0)\n",
    "    return positions\n",
    "\n",
    "\n",
    "# Tạo văn bản và xâu mẫu\n",
    "T = \"\".join(random.choices(\"ACGT\", k=100))\n",
    "P = \"ACG\"\n",
    "\n",
    "print(f\"Văn bản: {T}\")\n",
    "print(f\"Xâu mẫu: {P}\")\n",
    "\n",
    "positions_bf = brute_force_match(T, P)\n",
    "positions_bt = backtrack_match(T, P)\n",
    "\n",
    "print(f\"Brute Force: {positions_bf}\")\n",
    "print(f\"Backtracking: {positions_bt}\")"
   ],
   "outputs": [
    {
     "name": "stdout",
     "output_type": "stream",
     "text": [
      "Văn bản: TGGTTCCCTACAACGGGTGTACCGTCCTCACGTCGGGGTCCCTCGACGTATTTGACCTGGGCTGGAATAAGTAACTAACGGCGCGCTGTGGTTTCAGGCA\n",
      "Xâu mẫu: ACG\n",
      "Brute Force: [12, 29, 45, 77]\n",
      "Backtracking: [12, 29, 45, 77]\n"
     ]
    }
   ],
   "execution_count": 39
  },
  {
   "metadata": {},
   "cell_type": "markdown",
   "source": "## 2. Dãy nhị phân: Liệt kê các dãy nhị phân có độ dài n.",
   "id": "ecab9de5e54bb085"
  },
  {
   "metadata": {
    "ExecuteTime": {
     "end_time": "2025-03-25T15:39:50.090617Z",
     "start_time": "2025-03-25T15:39:50.081100Z"
    }
   },
   "cell_type": "code",
   "source": [
    "def generate_binary_brute_force(n):\n",
    "    for i in range(2 ** n):\n",
    "        print(format(i, f'0{n}b'), end=\" \")\n",
    "\n",
    "\n",
    "def generate_binary_backtracking(n, prefix=\"\"):\n",
    "    if len(prefix) == n:\n",
    "        print(prefix, end=\" \")\n",
    "        return\n",
    "    generate_binary_backtracking(n, prefix + \"0\")\n",
    "    generate_binary_backtracking(n, prefix + \"1\")\n",
    "\n",
    "\n",
    "generate_binary_brute_force(4)\n",
    "print()\n",
    "generate_binary_backtracking(4)"
   ],
   "id": "be3f9472b9f0487a",
   "outputs": [
    {
     "name": "stdout",
     "output_type": "stream",
     "text": [
      "0000 0001 0010 0011 0100 0101 0110 0111 1000 1001 1010 1011 1100 1101 1110 1111 \n",
      "0000 0001 0010 0011 0100 0101 0110 0111 1000 1001 1010 1011 1100 1101 1110 1111 "
     ]
    }
   ],
   "execution_count": 40
  },
  {
   "metadata": {},
   "cell_type": "markdown",
   "source": "## 3. Đường đi trong mê cung: Tìm đường đi từ A đến B trong mê cung.",
   "id": "f57431cf38880b2d"
  },
  {
   "metadata": {
    "ExecuteTime": {
     "end_time": "2025-03-25T15:39:50.137977Z",
     "start_time": "2025-03-25T15:39:50.124929Z"
    }
   },
   "cell_type": "code",
   "source": [
    "def backtracking_maze_solver(maze, start, end):\n",
    "    paths = []\n",
    "    n, m = len(maze), len(maze[0])\n",
    "    visited = [[False] * m for _ in range(n)]\n",
    "\n",
    "    def search(x, y, path):\n",
    "        if not (0 <= x < n and 0 <= y < m) or maze[x][y] == 0 or visited[x][y]:\n",
    "            return\n",
    "\n",
    "        if (x, y) == end:\n",
    "            paths.append(path[:])\n",
    "            return\n",
    "\n",
    "        visited[x][y] = True\n",
    "\n",
    "        for dx, dy in [(1, 0), (0, 1), (-1, 0), (0, -1)]:\n",
    "            nx, ny = x + dx, y + dy\n",
    "            search(nx, ny, path + [(nx, ny)])\n",
    "\n",
    "        visited[x][y] = False\n",
    "\n",
    "    search(*start, [start])\n",
    "    return paths\n",
    "\n",
    "\n",
    "maze = [\n",
    "    [1, 1, 0, 1, 1],\n",
    "    [0, 1, 1, 1, 0],\n",
    "    [1, 0, 0, 1, 1],\n",
    "    [1, 1, 1, 0, 1],\n",
    "    [0, 0, 1, 1, 1]\n",
    "]\n",
    "\n",
    "start = (0, 0)\n",
    "end = (4, 4)\n",
    "\n",
    "paths = backtracking_maze_solver(maze, start, end)\n",
    "for path in paths:\n",
    "    print(path)\n"
   ],
   "id": "9050eb070b93743",
   "outputs": [
    {
     "name": "stdout",
     "output_type": "stream",
     "text": [
      "[(0, 0), (0, 1), (1, 1), (1, 2), (1, 3), (2, 3), (2, 4), (3, 4), (4, 4)]\n"
     ]
    }
   ],
   "execution_count": 41
  },
  {
   "metadata": {},
   "cell_type": "markdown",
   "source": "## 4. Bài toán xếp hậu: Cho một bàn cờ vua có kích thước n × n. Biết rằng, một quân hậu trên bàn cờ có thể ăn được các quân khác tại các ô cùng hàng, cùng cột hoặc cùng đường chéo. Tìm cách xếp n quân hậu trên bàn cờ sao cho không quân hậu nào ăn quân hậu nào.",
   "id": "330dcedc21bc4d0"
  },
  {
   "metadata": {
    "ExecuteTime": {
     "end_time": "2025-03-25T15:39:50.169519Z",
     "start_time": "2025-03-25T15:39:50.151483Z"
    }
   },
   "cell_type": "code",
   "source": [
    "def backtracking_n_queens(n):\n",
    "    solutions = []\n",
    "    board = [-1] * n\n",
    "\n",
    "    col_used = [False] * n\n",
    "    diag1_used = [False] * (2 * n - 1)\n",
    "    diag2_used = [False] * (2 * n - 1)\n",
    "\n",
    "    def solve(row):\n",
    "        if row == n:\n",
    "            solutions.append(board[:])\n",
    "            return\n",
    "\n",
    "        for col in range(n):\n",
    "            diag1 = row - col + n - 1\n",
    "            diag2 = row + col\n",
    "\n",
    "            if not col_used[col] and not diag1_used[diag1] and not diag2_used[diag2]:\n",
    "                board[row] = col\n",
    "                col_used[col] = diag1_used[diag1] = diag2_used[diag2] = True\n",
    "\n",
    "                solve(row + 1)\n",
    "\n",
    "                col_used[col] = diag1_used[diag1] = diag2_used[diag2] = False\n",
    "\n",
    "    solve(0)\n",
    "    return solutions\n",
    "\n",
    "\n",
    "n = 4  # Kích thước bàn cờ\n",
    "solutions = backtracking_n_queens(n)  #\n",
    "for solution in solutions:\n",
    "    print(solution)\n"
   ],
   "id": "7f547e17b827a5ad",
   "outputs": [
    {
     "name": "stdout",
     "output_type": "stream",
     "text": [
      "[1, 3, 0, 2]\n",
      "[2, 0, 3, 1]\n"
     ]
    }
   ],
   "execution_count": 42
  },
  {
   "metadata": {},
   "cell_type": "markdown",
   "source": "## 5. Bài toán mã đi tuần: Cho bàn cờ vua có kích thước n × n. Một quân mã được phép di chuyển theo luật cờ vua, biết rằng đầu tiên quân mã được đặt ở ô (x0, y0). Hãy chỉ ra hành trình (nếu có) của quân mã để quân mã đi qua các ô trên bàn cờ vua, mỗi ô đi qua đúng 1 lần.",
   "id": "e8faf1b36aefe666"
  },
  {
   "metadata": {
    "ExecuteTime": {
     "end_time": "2025-03-25T15:40:07.018050Z",
     "start_time": "2025-03-25T15:39:50.187558Z"
    }
   },
   "cell_type": "code",
   "source": [
    "import numpy as np\n",
    "from matplotlib import pyplot as plt\n",
    "\n",
    "def brute_force_knight_tour(n, x0, y0):\n",
    "    board = [[-1] * n for _ in range(n)]\n",
    "    moves = [(2, 1), (1, 2), (-1, 2), (-2, 1), (-2, -1), (-1, -2), (1, -2), (2, -1)]\n",
    "\n",
    "    def is_valid(x, y):\n",
    "        return 0 <= x < n and 0 <= y < n and board[x][y] == -1\n",
    "\n",
    "    def solve(x, y, movei):\n",
    "        if movei == n * n:\n",
    "            return True\n",
    "\n",
    "        for dx, dy in moves:\n",
    "            nx, ny = x + dx, y + dy\n",
    "            if is_valid(nx, ny):\n",
    "                board[nx][ny] = movei\n",
    "                if solve(nx, ny, movei + 1):\n",
    "                    return True\n",
    "                board[nx][ny] = -1\n",
    "\n",
    "        return False\n",
    "\n",
    "    board[x0][y0] = 0\n",
    "    if solve(x0, y0, 1):\n",
    "        return board\n",
    "    return None\n",
    "\n",
    "\n",
    "def draw_knight_tour(board):\n",
    "    n = len(board)\n",
    "    fig, ax = plt.subplots(figsize=(6, 6))\n",
    "\n",
    "    ax.set_xticks(np.arange(n + 1) - 0.5, minor=True)\n",
    "    ax.set_yticks(np.arange(n + 1) - 0.5, minor=True)\n",
    "    ax.grid(which=\"minor\", color=\"black\", linestyle='-', linewidth=1)\n",
    "    ax.tick_params(which=\"both\", bottom=False, left=False, labelbottom=False, labelleft=False)\n",
    "\n",
    "    positions = sorted(((i, j, board[i][j]) for i in range(n) for j in range(n)), key=lambda x: x[2])\n",
    "    x_vals, y_vals = zip(*[(j, n - 1 - i) for i, j, _ in positions])\n",
    "\n",
    "    ax.plot(x_vals, y_vals, 'k-', marker='o', markersize=5, linewidth=1)\n",
    "\n",
    "    for i, j, step in positions:\n",
    "        ax.text(j, n - 1 - i, str(step), ha='center', va='center', fontsize=8, color='red')\n",
    "\n",
    "    plt.show()\n",
    "\n",
    "\n",
    "# Chạy thuật toán với n = 8\n",
    "n = 8\n",
    "solution = brute_force_knight_tour(n, 0, 0)\n",
    "\n",
    "if solution:\n",
    "    for row in solution:\n",
    "        print(\" \".join(f\"{cell:2}\" for cell in row))\n",
    "    draw_knight_tour(solution)\n",
    "else:\n",
    "    print(\"Không có hành trình hợp lệ!\")"
   ],
   "id": "e6911714ca0085b2",
   "outputs": [
    {
     "name": "stdout",
     "output_type": "stream",
     "text": [
      " 0 59 38 33 30 17  8 63\n",
      "37 34 31 60  9 62 29 16\n",
      "58  1 36 39 32 27 18  7\n",
      "35 48 41 26 61 10 15 28\n",
      "42 57  2 49 40 23  6 19\n",
      "47 50 45 54 25 20 11 14\n",
      "56 43 52  3 22 13 24  5\n",
      "51 46 55 44 53  4 21 12\n"
     ]
    },
    {
     "data": {
      "text/plain": [
       "<Figure size 600x600 with 1 Axes>"
      ],
      "image/png": "[encoded data removed]"
     },
     "metadata": {},
     "output_type": "display_data"
    }
   ],
   "execution_count": 43
  },
  {
   "metadata": {},
   "cell_type": "markdown",
   "source": "## 6. Phân tích số: Cho số nguyên dương n. Hãy liệt kê tất cả các cách phân tích số n thành các số nguyên dương nhỏ hơn nó.",
   "id": "54df7e06b49e01b"
  },
  {
   "metadata": {
    "ExecuteTime": {
     "end_time": "2025-03-25T15:40:07.080283Z",
     "start_time": "2025-03-25T15:40:07.066749Z"
    }
   },
   "cell_type": "code",
   "source": [
    "def partition_number(n):\n",
    "    result = []\n",
    "\n",
    "    def backtrack(target, start, path):\n",
    "        if target == 0:\n",
    "            result.append(path[:])\n",
    "            return\n",
    "        for i in range(start, 0, -1):  # Giảm dần để tránh lặp\n",
    "            if i <= target:\n",
    "                backtrack(target - i, i, path + [i])\n",
    "\n",
    "    backtrack(n, n - 1, [])\n",
    "    return result\n",
    "\n",
    "n = 9\n",
    "partitions = partition_number(n)\n",
    "\n",
    "for p in partitions:\n",
    "    print(p)\n"
   ],
   "id": "6125d1ff54333261",
   "outputs": [
    {
     "name": "stdout",
     "output_type": "stream",
     "text": [
      "[8, 1]\n",
      "[7, 2]\n",
      "[7, 1, 1]\n",
      "[6, 3]\n",
      "[6, 2, 1]\n",
      "[6, 1, 1, 1]\n",
      "[5, 4]\n",
      "[5, 3, 1]\n",
      "[5, 2, 2]\n",
      "[5, 2, 1, 1]\n",
      "[5, 1, 1, 1, 1]\n",
      "[4, 4, 1]\n",
      "[4, 3, 2]\n",
      "[4, 3, 1, 1]\n",
      "[4, 2, 2, 1]\n",
      "[4, 2, 1, 1, 1]\n",
      "[4, 1, 1, 1, 1, 1]\n",
      "[3, 3, 3]\n",
      "[3, 3, 2, 1]\n",
      "[3, 3, 1, 1, 1]\n",
      "[3, 2, 2, 2]\n",
      "[3, 2, 2, 1, 1]\n",
      "[3, 2, 1, 1, 1, 1]\n",
      "[3, 1, 1, 1, 1, 1, 1]\n",
      "[2, 2, 2, 2, 1]\n",
      "[2, 2, 2, 1, 1, 1]\n",
      "[2, 2, 1, 1, 1, 1, 1]\n",
      "[2, 1, 1, 1, 1, 1, 1, 1]\n",
      "[1, 1, 1, 1, 1, 1, 1, 1, 1]\n"
     ]
    }
   ],
   "execution_count": 44
  },
  {
   "metadata": {},
   "cell_type": "markdown",
   "source": "## 7. Sudoku: Có một hình vuông được chia thành 9 × 9 ô vuông con. Mỗi ô vuông con có giá trị trong khoảng từ 1 đến 9. Cho trước hình vuông với một số ô vuông con có các giá trị cho trước, các ô vuông còn lại trống. Hãy điền các số từ 1 đến 9 vào các ô con sao cho: hàng ngang, hàng dọc là các số khác nhau từ 1 đến 9, mỗi khối 3 × 3 là các số khác nhau từ 1 đến 9. Nếu bài toán không có lời giải, hãy đưa ra thông báo.",
   "id": "b72e5055905127fc"
  },
  {
   "metadata": {
    "ExecuteTime": {
     "end_time": "2025-03-25T15:40:07.158277Z",
     "start_time": "2025-03-25T15:40:07.099855Z"
    }
   },
   "cell_type": "code",
   "source": [
    "def is_valid(board, row, col, num):\n",
    "    \"\"\"Kiểm tra số num có thể đặt vào ô (row, col) không\"\"\"\n",
    "    for i in range(9):\n",
    "        if board[row][i] == num or board[i][col] == num:\n",
    "            return False\n",
    "\n",
    "    start_row, start_col = (row // 3) * 3, (col // 3) * 3\n",
    "    for i in range(3):\n",
    "        for j in range(3):\n",
    "            if board[start_row + i][start_col + j] == num:\n",
    "                return False\n",
    "\n",
    "    return True\n",
    "\n",
    "def solve_sudoku(board):\n",
    "    \"\"\"Thuật toán brute force giải Sudoku\"\"\"\n",
    "    for row in range(9):\n",
    "        for col in range(9):\n",
    "            if board[row][col] == 0:\n",
    "                for num in range(1, 10):\n",
    "                    if is_valid(board, row, col, num):\n",
    "                        board[row][col] = num\n",
    "                        if solve_sudoku(board):\n",
    "                            return True\n",
    "                        board[row][col] = 0\n",
    "                return False\n",
    "    return True  # Đã điền xong\n",
    "\n",
    "def print_board(board):\n",
    "    for row in board:\n",
    "        print(\" \".join(str(num) if num != 0 else \".\" for num in row))\n",
    "\n",
    "# 0 là ô trống\n",
    "sudoku_board = [\n",
    "    [5, 3, 0, 0, 7, 0, 0, 0, 0],\n",
    "    [6, 0, 0, 1, 9, 5, 0, 0, 0],\n",
    "    [0, 9, 8, 0, 0, 0, 0, 6, 0],\n",
    "    [8, 0, 0, 0, 6, 0, 0, 0, 3],\n",
    "    [4, 0, 0, 8, 0, 3, 0, 0, 1],\n",
    "    [7, 0, 0, 0, 2, 0, 0, 0, 6],\n",
    "    [0, 6, 0, 0, 0, 0, 2, 8, 0],\n",
    "    [0, 0, 0, 4, 1, 9, 0, 0, 5],\n",
    "    [0, 0, 0, 0, 8, 0, 0, 7, 9]\n",
    "]\n",
    "\n",
    "if solve_sudoku(sudoku_board):\n",
    "    print_board(sudoku_board)\n",
    "else:\n",
    "    print(\"Không có lời giải hợp lệ!\")\n"
   ],
   "id": "a5dd58db5e5cb9a2",
   "outputs": [
    {
     "name": "stdout",
     "output_type": "stream",
     "text": [
      "5 3 4 6 7 8 9 1 2\n",
      "6 7 2 1 9 5 3 4 8\n",
      "1 9 8 3 4 2 5 6 7\n",
      "8 5 9 7 6 1 4 2 3\n",
      "4 2 6 8 5 3 7 9 1\n",
      "7 1 3 9 2 4 8 5 6\n",
      "9 6 1 5 3 7 2 8 4\n",
      "2 8 7 4 1 9 6 3 5\n",
      "3 4 5 2 8 6 1 7 9\n"
     ]
    }
   ],
   "execution_count": 45
  },
  {
   "metadata": {},
   "cell_type": "markdown",
   "source": [
    "## Leo bậc thang: Bạn cần leo lên một cầu thang có n bậc. Trong mỗi bước bạn có thể leo tối đa k bậc. Hãy chỉ ra tất cả các cách có thể có để leo được lên bậc cầu thang đó.\n",
    "Ví dụ:\n",
    "Đầu vào: n = 4 và k = 2"
   ],
   "id": "c5493ba8900d1d39"
  },
  {
   "metadata": {
    "ExecuteTime": {
     "end_time": "2025-03-25T15:40:07.189859Z",
     "start_time": "2025-03-25T15:40:07.175321Z"
    }
   },
   "cell_type": "code",
   "source": [
    "def backtracking_climb_stairs(n, k):\n",
    "    result = []\n",
    "\n",
    "    def backtrack(path, remaining):\n",
    "        if remaining == 0:\n",
    "            result.append(path[:])\n",
    "            return\n",
    "        for step in range(1, k + 1):\n",
    "            if remaining >= step:\n",
    "                backtrack(path + [step], remaining - step)\n",
    "\n",
    "    backtrack([], n)\n",
    "    return result\n",
    "\n",
    "n, k = 4, 2\n",
    "ways = backtracking_climb_stairs(n, k)\n",
    "for way in ways:\n",
    "    print(way)\n"
   ],
   "id": "c1cb5ac1c9480817",
   "outputs": [
    {
     "name": "stdout",
     "output_type": "stream",
     "text": [
      "[1, 1, 1, 1]\n",
      "[1, 1, 2]\n",
      "[1, 2, 1]\n",
      "[2, 1, 1]\n",
      "[2, 2]\n"
     ]
    }
   ],
   "execution_count": 46
  },
  {
   "metadata": {},
   "cell_type": "markdown",
   "source": "## 9. Bài toán phân công công việc.",
   "id": "94fefcf98cbce2d8"
  },
  {
   "metadata": {
    "ExecuteTime": {
     "end_time": "2025-03-25T15:40:07.220992Z",
     "start_time": "2025-03-25T15:40:07.207905Z"
    }
   },
   "cell_type": "code",
   "source": [
    "def backtracking_assignment(cost_matrix):\n",
    "    n = len(cost_matrix)\n",
    "    visited = [False] * n\n",
    "    min_cost = [float('inf')]\n",
    "\n",
    "    def assign(worker, current_cost):\n",
    "        if worker == n:  # Tất cả công việc đã được gán\n",
    "            min_cost[0] = min(min_cost[0], current_cost)\n",
    "            return\n",
    "\n",
    "        if current_cost >= min_cost[0]:  # Nhánh cắt bỏ (tối ưu)\n",
    "            return\n",
    "\n",
    "        for job in range(n):\n",
    "            if not visited[job]:\n",
    "                visited[job] = True\n",
    "                assign(worker + 1, current_cost + cost_matrix[worker][job])\n",
    "                visited[job] = False\n",
    "\n",
    "    assign(0, 0)\n",
    "    return min_cost[0]\n",
    "\n",
    "cost_matrix = [\n",
    "    [9, 2, 7, 8],\n",
    "    [6, 4, 3, 7],\n",
    "    [5, 8, 1, 8],\n",
    "    [7, 6, 9, 4]\n",
    "]\n",
    "\n",
    "print(\"Chi phí tối thiểu:\", backtracking_assignment(cost_matrix))\n"
   ],
   "id": "435e61de07860695",
   "outputs": [
    {
     "name": "stdout",
     "output_type": "stream",
     "text": [
      "Chi phí tối thiểu: 13\n"
     ]
    }
   ],
   "execution_count": 47
  },
  {
   "metadata": {},
   "cell_type": "markdown",
   "source": "## Bài toán người bán hàng: Một người bán hàng muốn giao hàng đến n thành phố T1, T2, T3, ..., Tn. Người bán hàng xuất phát từ một thành phố bất kỳ nào đó và muốn đi qua tất cả các thành phố còn lại. Mỗi thành phố đi qua đúng 1 lần rồi quay trở lại thành phố xuất phát ban đầu. Gọi cij là chi phí đi từ thành phố Ti đến thành phố Tj. Hãy tìm một lộ trình thỏa mãn yêu cầu của bài toán sao cho tổng chi phí là nhỏ nhất.",
   "id": "3b38a37460b2fcb0"
  },
  {
   "metadata": {
    "ExecuteTime": {
     "end_time": "2025-03-25T15:40:07.251441Z",
     "start_time": "2025-03-25T15:40:07.238036Z"
    }
   },
   "cell_type": "code",
   "source": [
    "import sys\n",
    "\n",
    "def tsp_backtracking(cost_matrix):\n",
    "    n = len(cost_matrix)\n",
    "    min_cost = [sys.maxsize]\n",
    "    path = [-1] * n\n",
    "    visited = [False] * n\n",
    "\n",
    "    def search(i, current_cost):\n",
    "        if i == n:\n",
    "            total_cost = current_cost + cost_matrix[path[n - 1]][path[0]]  # Quay về điểm đầu\n",
    "            min_cost[0] = min(min_cost[0], total_cost)\n",
    "            return\n",
    "\n",
    "        if current_cost >= min_cost[0]:  # Nhánh cắt bỏ\n",
    "            return\n",
    "\n",
    "        for j in range(1, n):  # Bắt đầu từ thành phố 1 (giữ 0 cố định)\n",
    "            if not visited[j]:\n",
    "                path[i] = j\n",
    "                visited[j] = True\n",
    "                search(i + 1, current_cost + cost_matrix[path[i - 1]][j])\n",
    "                visited[j] = False\n",
    "\n",
    "    path[0] = 0\n",
    "    visited[0] = True\n",
    "    search(1, 0)\n",
    "    return min_cost[0]\n",
    "\n",
    "# Test\n",
    "cost_matrix = [\n",
    "    [0, 10, 15, 20],\n",
    "    [10, 0, 35, 25],\n",
    "    [15, 35, 0, 30],\n",
    "    [20, 25, 30, 0]\n",
    "]\n",
    "\n",
    "print(\"Chi phí nhỏ nhất:\", tsp_backtracking(cost_matrix))\n"
   ],
   "id": "5890072e34645d06",
   "outputs": [
    {
     "name": "stdout",
     "output_type": "stream",
     "text": [
      "Chi phí nhỏ nhất: 80\n"
     ]
    }
   ],
   "execution_count": 48
  },
  {
   "metadata": {},
   "cell_type": "markdown",
   "source": "## 11. Bài toán cái túi: Có n loại đồ vật, mỗi loại có số lượng không hạn chế. Đồ vật loại i có trọng lượng là wi và có giá trị là vi , i ∈ {1, 2, ..., n}. Tìm cách chọn đồ vật để đặt vào cái túi có giới hạn trọng lượng là M sao cho tổng giá trị của các đồ vật được chọn là lớn nhất.",
   "id": "de77851c1b8fe40a"
  },
  {
   "metadata": {
    "ExecuteTime": {
     "end_time": "2025-03-25T15:40:07.282521Z",
     "start_time": "2025-03-25T15:40:07.269004Z"
    }
   },
   "cell_type": "code",
   "source": [
    "def knapsack(i, n, m, w, v, weight, sum_value, f):\n",
    "    \"\"\"\n",
    "    i         : int   - Chỉ số của vật phẩm đang xét.\n",
    "    n         : int   - Số lượng vật phẩm.\n",
    "    m         : int   - Giới hạn trọng lượng của túi.\n",
    "    w         : list  - Danh sách trọng lượng của từng vật phẩm.\n",
    "    v         : list  - Danh sách giá trị của từng vật phẩm.\n",
    "    weight    : int   - Tổng trọng lượng hiện tại của các vật đã chọn.\n",
    "    sum_value : int   - Tổng giá trị hiện tại của các vật đã chọn.\n",
    "    f         : list  - Danh sách chứa giá trị lớn nhất tìm được.\n",
    "    \"\"\"\n",
    "    for j in range((m - weight) // w[i], -1, -1):\n",
    "        xi = j\n",
    "        weight += w[i] * xi\n",
    "        sum_value += v[i] * xi\n",
    "\n",
    "        if i == n - 1 or m - weight <= 0:\n",
    "            if sum_value > f[0]:\n",
    "                f[0] = sum_value\n",
    "        else:\n",
    "            g = sum_value + v[i + 1] * (m - weight) // w[i + 1]\n",
    "            if g > f[0]:\n",
    "                knapsack(i + 1, n, m, w, v, weight, sum_value, f)\n",
    "\n",
    "        weight -= w[i] * xi\n",
    "        sum_value -= v[i] * xi\n",
    "\n",
    "\n",
    "n = 3\n",
    "m = 5\n",
    "w = [2, 8, 4]\n",
    "v = [3, 4, 5]\n",
    "\n",
    "f = [0]\n",
    "knapsack(0, n, m, w, v, 0, 0, f)\n",
    "print(\"Giá trị lớn nhất có thể đạt được:\", f[0])\n"
   ],
   "id": "f93f360bac450f30",
   "outputs": [
    {
     "name": "stdout",
     "output_type": "stream",
     "text": [
      "Giá trị lớn nhất có thể đạt được: 6\n"
     ]
    }
   ],
   "execution_count": 49
  }
 ],
 "metadata": {
  "kernelspec": {
   "display_name": "Python 3",
   "language": "python",
   "name": "python3"
  },
  "language_info": {
   "codemirror_mode": {
    "name": "ipython",
    "version": 2
   },
   "file_extension": ".py",
   "mimetype": "text/x-python",
   "name": "python",
   "nbconvert_exporter": "python",
   "pygments_lexer": "ipython2",
   "version": "2.7.6"
  }
 },
 "nbformat": 4,
 "nbformat_minor": 5
}
