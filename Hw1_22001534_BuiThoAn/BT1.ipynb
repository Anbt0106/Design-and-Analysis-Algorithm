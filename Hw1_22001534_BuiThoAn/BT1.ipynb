{
 "cells": [
  {
   "metadata": {},
   "cell_type": "markdown",
   "source": "## Máy Turing M1 thực hiện phép cộng 1 của số nhị phân.",
   "id": "9250bf0ab4949e94"
  },
  {
   "metadata": {
    "ExecuteTime": {
     "end_time": "2025-02-18T11:26:21.079137Z",
     "start_time": "2025-02-18T11:26:15.187459Z"
    }
   },
   "cell_type": "code",
   "source": [
    "class TuringMachineM1:\n",
    "    \"\"\"\n",
    "    Ký hiệu trong máy Turing:\n",
    "    s: Trạng thái bắt đầu\n",
    "    h: Trạng thái dừng\n",
    "    q: Trạng thái cộng\n",
    "    >: Ký tự bắt đầu\n",
    "    .: Ký tự trắng\n",
    "    +: Chiều con trỏ di chuyển sang phải\n",
    "    -: Chiều con trỏ di chuyển sang trái\n",
    "    _: Con trỏ đứng yên\n",
    "    \"\"\"\n",
    "\n",
    "    def __init__(self) -> None:\n",
    "        self.transition = {\n",
    "            \"s0\": [\"s\", \"0\", \"+\"],\n",
    "            \"s1\": [\"s\", \"1\", \"+\"],\n",
    "            \"s>\": [\"s\", \">\", \"+\"],\n",
    "            \"s.\": [\"q\", \".\", \"-\"],\n",
    "\n",
    "            \"q0\": [\"h\", \"1\", \"_\"],\n",
    "            \"q1\": [\"q\", \"0\", \"-\"],\n",
    "            \"q>\": [\"h\", \">1\", \"_\"]\n",
    "        }\n",
    "\n",
    "        self.alphabet = [\"0\", \"1\"]\n",
    "        self.startChar = \">\"\n",
    "        self.endChar = \".\"\n",
    "\n",
    "    def checkValid(self, input: str):\n",
    "        start = input.startswith(self.startChar)\n",
    "        end = input.endswith(self.endChar)\n",
    "\n",
    "        if not start or not end:\n",
    "            return False\n",
    "        else:\n",
    "            for s in input[1: -1]:  # Kiểm tra các ký tự trong chuỗi\n",
    "                if s not in self.alphabet:\n",
    "                    return False\n",
    "            return True\n",
    "\n",
    "    def __call__(self, input: str):\n",
    "        assert self.checkValid(input), \"Input not valid\"\n",
    "\n",
    "        current_state = \"s\"\n",
    "        output = \"\"\n",
    "        index = 0\n",
    "        input_list = list(input)\n",
    "\n",
    "        while current_state != \"h\":\n",
    "            input_char = input_list[index]\n",
    "            state = current_state + input_char\n",
    "\n",
    "            result = self.transition[state]\n",
    "            input_list[index] = result[1]\n",
    "\n",
    "            if result[2] == \"+\":\n",
    "                index += 1\n",
    "            elif result[2] == \"-\":\n",
    "                index -= 1\n",
    "\n",
    "            current_state = result[0]\n",
    "\n",
    "        return output.join(input_list)\n",
    "\n",
    "if __name__ == \"__main__\":\n",
    "    m1 = TuringMachineM1()\n",
    "    sample_input = input(\"Nhập chuỗi nhị phân với ký tự bắt đầu là '>' và kết thúc là '.' \")\n",
    "    print(f\"Chuỗi ban đầu: {sample_input}\")\n",
    "    print(f\"Turing M1: {m1(sample_input)}\")"
   ],
   "id": "a2c00eb694716d37",
   "outputs": [
    {
     "name": "stdout",
     "output_type": "stream",
     "text": [
      "Chuỗi ban đầu: >111.\n",
      "Turing M1: >1000.\n"
     ]
    }
   ],
   "execution_count": 15
  },
  {
   "metadata": {},
   "cell_type": "markdown",
   "source": "## Máy Turing M2 thực hiện phép trừ 1 của số nhị phân.",
   "id": "b2285e0ca5f2bf72"
  },
  {
   "metadata": {
    "ExecuteTime": {
     "end_time": "2025-02-18T11:26:36.426442Z",
     "start_time": "2025-02-18T11:26:27.319853Z"
    }
   },
   "cell_type": "code",
   "source": [
    "class TuringMachineM2:\n",
    "    \"\"\"\n",
    "    Ký hiệu trong máy Turing:\n",
    "    s: Trạng thái bắt đầu\n",
    "    h: Trạng thái dừng\n",
    "    q: Trạng thái trừ\n",
    "    >: Ký tự bắt đầu\n",
    "    .: Ký tự trắng\n",
    "    +: Chiều con trỏ di chuyển sang phải\n",
    "    -: Chiều con trỏ di chuyển sang trái\n",
    "    _: Con trỏ đứng yên\n",
    "    \"\"\"\n",
    "\n",
    "    def __init__(self) -> None:\n",
    "        self.transition = {\n",
    "            \"s0\": [\"s\", \"0\", \"+\"],\n",
    "            \"s1\": [\"s\", \"1\", \"+\"],\n",
    "            \"s>\": [\"s\", \">\", \"+\"],\n",
    "            \"s.\": [\"q\", \".\", \"-\"],\n",
    "\n",
    "            \"q0\": [\"q\", \"1\", \"-\"],\n",
    "            \"q1\": [\"h\", \"0\", \"_\"],\n",
    "            \"q>\": [\"h\", \">\", \"_\"]\n",
    "        }\n",
    "\n",
    "        self.alphabet = [\"0\", \"1\"]\n",
    "        self.startChar = \">\"\n",
    "        self.endChar = \".\"\n",
    "\n",
    "    def checkValid(self, input: str):\n",
    "        start = input.startswith(self.startChar)\n",
    "        end = input.endswith(self.endChar)\n",
    "\n",
    "        if not start or not end:\n",
    "            return False\n",
    "        else:\n",
    "            for s in input[1: -1]:  # Kiểm tra các ký tự trong chuỗi\n",
    "                if s not in self.alphabet:\n",
    "                    return False\n",
    "            return True\n",
    "\n",
    "    def __call__(self, input: str):\n",
    "        assert self.checkValid(input), \"Input not valid\"\n",
    "\n",
    "        current_state = \"s\"\n",
    "        output = \"\"\n",
    "        index = 0\n",
    "        input_list = list(input)\n",
    "\n",
    "        while current_state != \"h\":\n",
    "            input_char = input_list[index]\n",
    "            state = current_state + input_char\n",
    "\n",
    "            result = self.transition[state]\n",
    "            input_list[index] = result[1]\n",
    "\n",
    "            if result[2] == \"+\":\n",
    "                index += 1\n",
    "            elif result[2] == \"-\":\n",
    "                index -= 1\n",
    "\n",
    "            current_state = result[0]\n",
    "\n",
    "        return output.join(input_list)\n",
    "\n",
    "if __name__ == \"__main__\":\n",
    "    m1 = TuringMachineM2()\n",
    "    sample_input = input(\"Nhập chuỗi nhị phân với ký tự bắt đầu là '>' và kết thúc là '.' \")\n",
    "    print(f\"Chuỗi ban đầu: {sample_input}\")\n",
    "    print(f\"Turing M2: {m1(sample_input)}\")"
   ],
   "id": "cdb6f1d64029f971",
   "outputs": [
    {
     "name": "stdout",
     "output_type": "stream",
     "text": [
      "Chuỗi ban đầu: >111.\n",
      "Turing M2: >110.\n"
     ]
    }
   ],
   "execution_count": 16
  },
  {
   "metadata": {},
   "cell_type": "markdown",
   "source": "## Máy Turing M3 thực hiện việc thay tất cả các số 0 trong một dãy nhị phân thành các số 1 và ngược lại. Ví dụ: 01001 =⇒ 10110.",
   "id": "3046387c0e91b787"
  },
  {
   "metadata": {
    "ExecuteTime": {
     "end_time": "2025-02-18T11:26:57.211444Z",
     "start_time": "2025-02-18T11:26:51.092462Z"
    }
   },
   "cell_type": "code",
   "source": [
    "class TuringMachineM3:\n",
    "    \"\"\"\n",
    "    Ký hiệu trong máy Turing:\n",
    "    s: Trạng thái bắt đầu\n",
    "    h: Trạng thái dừng\n",
    "    >: Ký tự bắt đầu\n",
    "    .: Ký tự trắng\n",
    "    +: Chiều con trỏ di chuyển sang phải\n",
    "    -: Chiều con trỏ di chuyển sang trái\n",
    "    _: Con trỏ đứng yên\n",
    "    \"\"\"\n",
    "\n",
    "    def __init__(self) -> None:\n",
    "        self.transition = {\n",
    "            \"s0\": [\"s\", \"1\", \"+\"],\n",
    "            \"s1\": [\"s\", \"0\", \"+\"],\n",
    "            \"s>\": [\"s\", \">\", \"+\"],\n",
    "            \"s.\": [\"h\", \".\", \"_\"]\n",
    "        }\n",
    "\n",
    "        self.alphabet = [\"0\", \"1\"]\n",
    "        self.startChar = \">\"\n",
    "        self.endChar = \".\"\n",
    "\n",
    "    def checkValid(self, input: str):\n",
    "        start = input.startswith(self.startChar)\n",
    "        end = input.endswith(self.endChar)\n",
    "\n",
    "        if not start or not end:\n",
    "            return False\n",
    "        else:\n",
    "            for s in input[1: -1]:\n",
    "                if s not in self.alphabet:\n",
    "                    return False\n",
    "            return True\n",
    "\n",
    "    def __call__(self, input: str):\n",
    "        assert self.checkValid(input), \"Input not valid\"\n",
    "\n",
    "        current_state = \"s\"\n",
    "        output = \"\"\n",
    "        index = 0\n",
    "\n",
    "        while current_state != \"h\":\n",
    "            input_char = input[index]\n",
    "            state = current_state + input_char\n",
    "            result = self.transition[state]\n",
    "            output += result[1]\n",
    "\n",
    "            if result[2] == \"+\":\n",
    "                index += 1\n",
    "            elif result[2] == \"-\":\n",
    "                index -= 1\n",
    "            current_state = result[0]\n",
    "\n",
    "        return output\n",
    "\n",
    "\n",
    "if __name__ == \"__main__\":\n",
    "    m3 = TuringMachineM3()\n",
    "    sample_input = input(\"Nhập chuỗi nhị phân với ký tự bắt đầu là '>' và kết thúc là '.' \")\n",
    "    print(f\"Chuỗi ban đầu: {sample_input}\")\n",
    "    print(f\"Turing M3: {m3(sample_input)}\")"
   ],
   "id": "2a35ddd8c097da9",
   "outputs": [
    {
     "name": "stdout",
     "output_type": "stream",
     "text": [
      "Chuỗi ban đầu: >1010100.\n",
      "Turing M3: >0101011.\n"
     ]
    }
   ],
   "execution_count": 17
  },
  {
   "metadata": {},
   "cell_type": "markdown",
   "source": "## Máy Turing M4 thực hiện việc loại bỏ các chữ số 0 trong dãy nhị phân. Sau khi bỏ cần dồn dãy lại. Ví dụ: 01001 =⇒ 11.",
   "id": "3e9c4bd51e6088f2"
  },
  {
   "metadata": {
    "ExecuteTime": {
     "end_time": "2025-02-18T11:36:25.836461Z",
     "start_time": "2025-02-18T11:36:17.916618Z"
    }
   },
   "cell_type": "code",
   "source": [
    "class TuringMachineM4:\n",
    "    \"\"\"\n",
    "    Ký hiệu trong máy Turing:\n",
    "    s: Trạng thái bắt đầu\n",
    "    h: Trạng thái dừng\n",
    "    >: Ký tự bắt đầu\n",
    "    .: Ký tự trắng\n",
    "    +: Chiều con trỏ di chuyển sang phải\n",
    "    -: Chiều con trỏ di chuyển sang trái\n",
    "    _: Con trỏ đứng yên\n",
    "    \"\"\"\n",
    "\n",
    "    def __init__(self) -> None:\n",
    "        self.transition = {\n",
    "            \"s0\": [\"s\", \"\", \"+\"],\n",
    "            \"s1\": [\"s\", \"1\", \"+\"],\n",
    "            \"s>\": [\"s\", \">\", \"+\"],\n",
    "            \"s.\": [\"h\", \".\", \"_\"],\n",
    "        }\n",
    "\n",
    "        self.alphabet = [\"0\", \"1\"]\n",
    "        self.startChar = \">\"\n",
    "        self.endChar = \".\"\n",
    "\n",
    "    def checkValid(self, input: str):\n",
    "        start = input.startswith(self.startChar)\n",
    "        end = input.endswith(self.endChar)\n",
    "\n",
    "        if not start or not end:\n",
    "            return False\n",
    "        else:\n",
    "            for s in input[1: -1]:  # Kiểm tra các ký tự trong chuỗi\n",
    "                if s not in self.alphabet:\n",
    "                    return False\n",
    "            return True\n",
    "\n",
    "    def __call__(self, input: str):\n",
    "        assert self.checkValid(input), \"Input not valid\"\n",
    "\n",
    "        current_state = \"s\"\n",
    "        output = \"\"\n",
    "        index = 0\n",
    "        input_list = list(input)\n",
    "\n",
    "        while current_state != \"h\":\n",
    "            input_char = input_list[index]\n",
    "            state = current_state + input_char\n",
    "\n",
    "            result = self.transition[state]\n",
    "            input_list[index] = result[1]\n",
    "\n",
    "            if result[2] == \"+\":\n",
    "                index += 1\n",
    "            elif result[2] == \"-\":\n",
    "                index -= 1\n",
    "\n",
    "            current_state = result[0]\n",
    "\n",
    "        return output.join(input_list)\n",
    "\n",
    "if __name__ == \"__main__\":\n",
    "    m1 = TuringMachineM4()\n",
    "    sample_input = input(\"Nhập chuỗi nhị phân với ký tự bắt đầu là '>' và kết thúc là '.' \")\n",
    "    print(f\"Chuỗi ban đầu: {sample_input}\")\n",
    "    print(f\"Turing M4: {m1(sample_input)}\")"
   ],
   "id": "db51cf36e4f568b7",
   "outputs": [
    {
     "name": "stdout",
     "output_type": "stream",
     "text": [
      "Chuỗi ban đầu: >1010001.\n",
      "Turing M4: >111.\n"
     ]
    }
   ],
   "execution_count": 20
  },
  {
   "metadata": {},
   "cell_type": "markdown",
   "source": "## Máy Turing M5 thực hiện việc kiểm tra một dãy số nhị phân có đối xứng không. Ví dụ: 010010 =⇒ “yes”, 01100 =⇒ “no”.",
   "id": "6e4d6571932c3f4c"
  },
  {
   "metadata": {
    "ExecuteTime": {
     "end_time": "2025-02-18T11:44:56.108794Z",
     "start_time": "2025-02-18T11:44:44.163169Z"
    }
   },
   "cell_type": "code",
   "source": "",
   "id": "468105a7cf2cb423",
   "outputs": [
    {
     "name": "stdout",
     "output_type": "stream",
     "text": [
      "Chuỗi ban đầu: >10001.\n"
     ]
    },
    {
     "ename": "ValueError",
     "evalue": "Trạng thái không hợp lệ: n0",
     "output_type": "error",
     "traceback": [
      "\u001B[1;31m---------------------------------------------------------------------------\u001B[0m",
      "\u001B[1;31mValueError\u001B[0m                                Traceback (most recent call last)",
      "Cell \u001B[1;32mIn[26], line 82\u001B[0m\n\u001B[0;32m     80\u001B[0m sample_input \u001B[38;5;241m=\u001B[39m \u001B[38;5;28minput\u001B[39m(\u001B[38;5;124m\"\u001B[39m\u001B[38;5;124mNhập chuỗi nhị phân với ký tự bắt đầu là \u001B[39m\u001B[38;5;124m'\u001B[39m\u001B[38;5;124m>\u001B[39m\u001B[38;5;124m'\u001B[39m\u001B[38;5;124m và kết thúc là \u001B[39m\u001B[38;5;124m'\u001B[39m\u001B[38;5;124m.\u001B[39m\u001B[38;5;124m'\u001B[39m\u001B[38;5;124m \u001B[39m\u001B[38;5;124m\"\u001B[39m)\n\u001B[0;32m     81\u001B[0m \u001B[38;5;28mprint\u001B[39m(\u001B[38;5;124mf\u001B[39m\u001B[38;5;124m\"\u001B[39m\u001B[38;5;124mChuỗi ban đầu: \u001B[39m\u001B[38;5;132;01m{\u001B[39;00msample_input\u001B[38;5;132;01m}\u001B[39;00m\u001B[38;5;124m\"\u001B[39m)\n\u001B[1;32m---> 82\u001B[0m \u001B[38;5;28mprint\u001B[39m(\u001B[38;5;124mf\u001B[39m\u001B[38;5;124m\"\u001B[39m\u001B[38;5;124mKết quả kiểm tra đối xứng: \u001B[39m\u001B[38;5;132;01m{\u001B[39;00m\u001B[43mm5\u001B[49m\u001B[43m(\u001B[49m\u001B[43msample_input\u001B[49m\u001B[43m)\u001B[49m\u001B[38;5;132;01m}\u001B[39;00m\u001B[38;5;124m\"\u001B[39m)\n",
      "Cell \u001B[1;32mIn[26], line 61\u001B[0m, in \u001B[0;36mTuringMachineM5.__call__\u001B[1;34m(self, input)\u001B[0m\n\u001B[0;32m     58\u001B[0m state \u001B[38;5;241m=\u001B[39m current_state \u001B[38;5;241m+\u001B[39m input_char\n\u001B[0;32m     60\u001B[0m \u001B[38;5;28;01mif\u001B[39;00m state \u001B[38;5;129;01mnot\u001B[39;00m \u001B[38;5;129;01min\u001B[39;00m \u001B[38;5;28mself\u001B[39m\u001B[38;5;241m.\u001B[39mtransition:\n\u001B[1;32m---> 61\u001B[0m     \u001B[38;5;28;01mraise\u001B[39;00m \u001B[38;5;167;01mValueError\u001B[39;00m(\u001B[38;5;124mf\u001B[39m\u001B[38;5;124m\"\u001B[39m\u001B[38;5;124mTrạng thái không hợp lệ: \u001B[39m\u001B[38;5;132;01m{\u001B[39;00mstate\u001B[38;5;132;01m}\u001B[39;00m\u001B[38;5;124m\"\u001B[39m)\n\u001B[0;32m     63\u001B[0m result \u001B[38;5;241m=\u001B[39m \u001B[38;5;28mself\u001B[39m\u001B[38;5;241m.\u001B[39mtransition[state]\n\u001B[0;32m     64\u001B[0m tape[index] \u001B[38;5;241m=\u001B[39m result[\u001B[38;5;241m1\u001B[39m]  \u001B[38;5;66;03m# Ghi ký tự mới\u001B[39;00m\n",
      "\u001B[1;31mValueError\u001B[0m: Trạng thái không hợp lệ: n0"
     ]
    }
   ],
   "execution_count": 26
  },
  {
   "metadata": {},
   "cell_type": "markdown",
   "source": "## Máy Turing M6 thực hiện chèn thêm ký tự trắng vào đầu xâu.",
   "id": "af7a57baea3cd532"
  },
  {
   "metadata": {
    "ExecuteTime": {
     "end_time": "2025-02-18T11:40:30.825489Z",
     "start_time": "2025-02-18T11:40:26.147021Z"
    }
   },
   "cell_type": "code",
   "source": [
    " class TuringMachineM6:\n",
    "    \"\"\"\n",
    "    Ký hiệu trong máy Turing:\n",
    "    s: Trạng thái bắt đầu\n",
    "    h: Trạng thái dừng\n",
    "    >: Ký tự bắt đầu\n",
    "    .: Ký tự trắng\n",
    "    +: Chiều con trỏ di chuyển sang phải\n",
    "    -: Chiều con trỏ di chuyển sang trái\n",
    "    _: Con trỏ đứng yên\n",
    "    \"\"\"\n",
    "\n",
    "    def __init__(self) -> None:\n",
    "        self.transition = {\n",
    "            \"s0\": [\"s\", \"0\", \"+\"],\n",
    "            \"s1\": [\"s\", \"1\", \"+\"],\n",
    "            \"s>\": [\"s\", \">.\", \"-\"],\n",
    "            \"s.\": [\"h\", \".\", \"_\"],\n",
    "        }\n",
    "\n",
    "        self.alphabet = [\"0\", \"1\"]\n",
    "        self.startChar = \">\"\n",
    "        self.endChar = \".\"\n",
    "\n",
    "    def checkValid(self, input: str):\n",
    "        start = input.startswith(self.startChar)\n",
    "        end = input.endswith(self.endChar)\n",
    "\n",
    "        if not start or not end:\n",
    "            return False\n",
    "        else:\n",
    "            for s in input[1: -1]:  # Kiểm tra các ký tự trong chuỗi\n",
    "                if s not in self.alphabet:\n",
    "                    return False\n",
    "            return True\n",
    "\n",
    "    def __call__(self, input: str):\n",
    "        assert self.checkValid(input), \"Input not valid\"\n",
    "\n",
    "        current_state = \"s\"\n",
    "        output = \"\"\n",
    "        index = 0\n",
    "        input_list = list(input)\n",
    "\n",
    "        while current_state != \"h\":\n",
    "            input_char = input_list[index]\n",
    "            state = current_state + input_char\n",
    "\n",
    "            result = self.transition[state]\n",
    "            input_list[index] = result[1]\n",
    "\n",
    "            if result[2] == \"+\":\n",
    "                index += 1\n",
    "            elif result[2] == \"-\":\n",
    "                index -= 1\n",
    "\n",
    "            current_state = result[0]\n",
    "\n",
    "        return output.join(input_list)\n",
    "\n",
    "if __name__ == \"__main__\":\n",
    "    m6 = TuringMachineM6()\n",
    "    sample_input = input(\"Nhập chuỗi nhị phân với ký tự bắt đầu là '>' và kết thúc là '.' \")\n",
    "    print(f\"Chuỗi ban đầu: {sample_input}\")\n",
    "    print(f\"Turing M4: {m6(sample_input)}\")"
   ],
   "id": "e7e42f14f82f7175",
   "outputs": [
    {
     "name": "stdout",
     "output_type": "stream",
     "text": [
      "Chuỗi ban đầu: >1010.\n",
      "Turing M4: >.1010.\n"
     ]
    }
   ],
   "execution_count": 24
  }
 ],
 "metadata": {
  "kernelspec": {
   "display_name": "Python 3",
   "language": "python",
   "name": "python3"
  },
  "language_info": {
   "codemirror_mode": {
    "name": "ipython",
    "version": 2
   },
   "file_extension": ".py",
   "mimetype": "text/x-python",
   "name": "python",
   "nbconvert_exporter": "python",
   "pygments_lexer": "ipython2",
   "version": "2.7.6"
  }
 },
 "nbformat": 4,
 "nbformat_minor": 5
}
