{
 "cells": [
  {
   "metadata": {
    "ExecuteTime": {
     "end_time": "2025-04-30T16:06:59.540844Z",
     "start_time": "2025-04-30T16:06:59.531847Z"
    }
   },
   "cell_type": "code",
   "source": [
    "import networkx as nx\n",
    "import numpy as np\n",
    "import itertools\n",
    "import sys\n",
    "import math\n",
    "import time\n",
    "import numpy as np\n",
    "import matplotlib.pyplot as plt"
   ],
   "id": "f5ab0d4c7f0a0329",
   "outputs": [],
   "execution_count": 42
  },
  {
   "metadata": {},
   "cell_type": "markdown",
   "source": "## TSP Approximation Algorithms",
   "id": "5160cf435d34ded0"
  },
  {
   "metadata": {
    "ExecuteTime": {
     "end_time": "2025-04-30T16:06:59.571955Z",
     "start_time": "2025-04-30T16:06:59.556896Z"
    }
   },
   "cell_type": "code",
   "source": [
    "def christofides_tsp(G):\n",
    "    MST = nx.minimum_spanning_tree(G)\n",
    "\n",
    "    OddVertices = [v for v in MST.nodes() if MST.degree(v) % 2 != 0]\n",
    "\n",
    "    OddGraph = G.subgraph(OddVertices)\n",
    "    Matching = nx.algorithms.matching.min_weight_matching(OddGraph, weight='weight')\n",
    "\n",
    "    EulerGraph = nx.MultiGraph()\n",
    "    EulerGraph.add_edges_from(MST.edges(data=True))\n",
    "    for u, v in Matching:\n",
    "        EulerGraph.add_edge(u, v, weight=G[u][v]['weight'])\n",
    "\n",
    "    EulerTour = list(nx.eulerian_circuit(EulerGraph))\n",
    "    TSP_Tour = []\n",
    "    Visited = set()\n",
    "\n",
    "    for u, v in EulerTour:\n",
    "        if u not in Visited:\n",
    "            TSP_Tour.append(u)\n",
    "            Visited.add(u)\n",
    "\n",
    "    TSP_Tour.append(TSP_Tour[0])\n",
    "    return TSP_Tour\n",
    "\n",
    "\n",
    "def generate_complete_graph(n, seed=42):\n",
    "    np.random.seed(seed)\n",
    "    G = nx.complete_graph(n)\n",
    "    for u, v in G.edges():\n",
    "        G[u][v]['weight'] = np.random.randint(1, 100)\n",
    "    return G"
   ],
   "id": "936c7fb2fb975206",
   "outputs": [],
   "execution_count": 43
  },
  {
   "metadata": {},
   "cell_type": "markdown",
   "source": "## Brute Force TSP",
   "id": "37b1664bf72dcc9d"
  },
  {
   "metadata": {
    "ExecuteTime": {
     "end_time": "2025-04-30T16:06:59.602128Z",
     "start_time": "2025-04-30T16:06:59.587943Z"
    }
   },
   "cell_type": "code",
   "source": [
    "def calculate_total_distance(tour, dist_matrix):\n",
    "    total_distance = 0\n",
    "    for i in range(len(tour) - 1):\n",
    "        total_distance += dist_matrix[tour[i]][tour[i + 1]]\n",
    "    total_distance += dist_matrix[tour[-1]][tour[0]]  # kết nối điểm cuối với điểm đầu\n",
    "    return total_distance\n",
    "\n",
    "\n",
    "def tsp_bruteforce(dist_matrix):\n",
    "    nodes = list(range(len(dist_matrix)))\n",
    "    min_distance = float('inf')\n",
    "    best_tour = None\n",
    "\n",
    "    for tour in itertools.permutations(nodes):\n",
    "        total_distance = calculate_total_distance(tour, dist_matrix)\n",
    "        if total_distance < min_distance:\n",
    "            min_distance = total_distance\n",
    "            best_tour = tour\n",
    "\n",
    "    return best_tour, min_distance"
   ],
   "id": "4aa9771be774085c",
   "outputs": [],
   "execution_count": 44
  },
  {
   "metadata": {},
   "cell_type": "markdown",
   "source": "## Branch and Bound TSP",
   "id": "7c6b0ef556557f9e"
  },
  {
   "metadata": {
    "ExecuteTime": {
     "end_time": "2025-04-30T16:06:59.633119Z",
     "start_time": "2025-04-30T16:06:59.619063Z"
    }
   },
   "cell_type": "code",
   "source": [
    "def bound(dist_matrix, curr_path, curr_cost, n):\n",
    "    bound = curr_cost\n",
    "    for i in range(len(curr_path) - 1):\n",
    "        bound += min_edge(dist_matrix, curr_path[i], curr_path[i + 1], n)\n",
    "    bound += min_edge(dist_matrix, curr_path[-1], curr_path[0], n)\n",
    "    return bound\n",
    "\n",
    "\n",
    "def min_edge(dist_matrix, u, v, n):\n",
    "    min_u = float('inf')\n",
    "    min_v = float('inf')\n",
    "\n",
    "    for i in range(n):\n",
    "        if i != u:\n",
    "            min_u = min(min_u, dist_matrix[u][i])\n",
    "        if i != v:\n",
    "            min_v = min(min_v, dist_matrix[v][i])\n",
    "\n",
    "    return min_u + min_v\n",
    "\n",
    "\n",
    "def branch_and_bound(dist_matrix, curr_path, visited, curr_cost, level, n, final_res, final_tour):\n",
    "    if level == n:\n",
    "        curr_cost += dist_matrix[curr_path[-1]][curr_path[0]]\n",
    "        if curr_cost < final_res[0]:\n",
    "            final_res[0] = curr_cost\n",
    "            final_tour[0] = curr_path + [curr_path[0]]\n",
    "        return\n",
    "\n",
    "    for i in range(n):\n",
    "        if not visited[i]:\n",
    "            curr_path.append(i)\n",
    "            visited[i] = True\n",
    "            bound_val = bound(dist_matrix, curr_path, curr_cost, n)\n",
    "\n",
    "            if bound_val < final_res[0]:\n",
    "                branch_and_bound(dist_matrix, curr_path, visited, curr_cost + dist_matrix[curr_path[-2]][curr_path[-1]],\n",
    "                                 level + 1, n, final_res, final_tour)\n",
    "\n",
    "            visited[i] = False\n",
    "            curr_path.pop()\n",
    "\n",
    "\n",
    "def solve_tsp(dist_matrix):\n",
    "    n = len(dist_matrix)\n",
    "    visited = [False] * n\n",
    "    visited[0] = True\n",
    "    curr_path = [0]\n",
    "    final_res = [float('inf')]\n",
    "    final_tour = [None]\n",
    "    branch_and_bound(dist_matrix, curr_path, visited, 0, 1, n, final_res, final_tour)\n",
    "    return final_tour[0], final_res[0]"
   ],
   "id": "30215f46e16dfe65",
   "outputs": [],
   "execution_count": 45
  },
  {
   "metadata": {},
   "cell_type": "markdown",
   "source": "## Dynamic Programming TSP",
   "id": "1e65dba6e44bb80b"
  },
  {
   "metadata": {
    "ExecuteTime": {
     "end_time": "2025-04-30T16:06:59.665176Z",
     "start_time": "2025-04-30T16:06:59.650133Z"
    }
   },
   "cell_type": "code",
   "source": [
    "\n",
    "def tsp_dp(dist_matrix):\n",
    "    n = len(dist_matrix)\n",
    "    dp = [[float('inf')] * n for _ in range(1 << n)]\n",
    "    dp[1][0] = 0\n",
    "\n",
    "    for mask in range(1, 1 << n):\n",
    "        for u in range(n):\n",
    "            if (mask & (1 << u)) == 0:\n",
    "                continue\n",
    "            for v in range(n):\n",
    "                if mask & (1 << v):\n",
    "                    continue\n",
    "                new_mask = mask | (1 << v)\n",
    "                dp[new_mask][v] = min(dp[new_mask][v], dp[mask][u] + dist_matrix[u][v])\n",
    "\n",
    "    final_res = float('inf')\n",
    "    for i in range(1, n):\n",
    "        final_res = min(final_res, dp[(1 << n) - 1][i] + dist_matrix[i][0])\n",
    "\n",
    "    return final_res"
   ],
   "id": "76b7218bd215056b",
   "outputs": [],
   "execution_count": 46
  },
  {
   "metadata": {
    "ExecuteTime": {
     "end_time": "2025-04-30T16:10:12.472054Z",
     "start_time": "2025-04-30T16:07:34.823079Z"
    }
   },
   "cell_type": "code",
   "source": [
    "# So sánh thời gian chạy của các thuật toán\n",
    "def compare_algorithms():\n",
    "    sizes = [x for x in range(3, 12)]\n",
    "    brute_force_times = []\n",
    "    branch_and_bound_times = []\n",
    "    dp_times = []\n",
    "    christofides_times = []\n",
    "\n",
    "    for n in sizes:\n",
    "        print(f\"Đồ thị với {n} đỉnh:\")\n",
    "\n",
    "        # Tạo ma trận khoảng cách ngẫu nhiên\n",
    "        dist_matrix = np.random.randint(1, 100, (n, n))\n",
    "        for i in range(n):\n",
    "            for j in range(n):\n",
    "                if i == j:\n",
    "                    dist_matrix[i][j] = 0\n",
    "\n",
    "        G = generate_complete_graph(n)\n",
    "\n",
    "        # Brute Force\n",
    "        start_time = time.process_time()\n",
    "        tsp_bruteforce(dist_matrix)\n",
    "        end_time = time.process_time()\n",
    "        brute_force_times.append(end_time - start_time)\n",
    "\n",
    "        #  Branch and Bound\n",
    "        start_time = time.process_time()\n",
    "        solve_tsp(dist_matrix)\n",
    "        end_time = time.process_time()\n",
    "        branch_and_bound_times.append(end_time - start_time)\n",
    "\n",
    "        #  Dynamic Programming\n",
    "        start_time = time.process_time()\n",
    "        tsp_dp(dist_matrix)\n",
    "        end_time = time.process_time()\n",
    "        dp_times.append(end_time - start_time)\n",
    "\n",
    "        #Christofides\n",
    "        start_time = time.process_time()\n",
    "        christofides_tsp(G)\n",
    "        end_time = time.process_time()\n",
    "        christofides_times.append(end_time - start_time)\n",
    "\n",
    "        print(\"-\" * 40)\n",
    "\n",
    "    return sizes, brute_force_times, branch_and_bound_times, dp_times, christofides_times\n",
    "\n",
    "\n",
    "sizes, brute_force_times, branch_and_bound_times, dp_times, christofides_times = compare_algorithms()\n"
   ],
   "id": "5f949ea61b577131",
   "outputs": [
    {
     "name": "stdout",
     "output_type": "stream",
     "text": [
      "Đồ thị với 3 đỉnh:\n",
      "----------------------------------------\n",
      "Đồ thị với 4 đỉnh:\n",
      "----------------------------------------\n",
      "Đồ thị với 5 đỉnh:\n",
      "----------------------------------------\n",
      "Đồ thị với 6 đỉnh:\n",
      "----------------------------------------\n",
      "Đồ thị với 7 đỉnh:\n",
      "----------------------------------------\n",
      "Đồ thị với 8 đỉnh:\n",
      "----------------------------------------\n",
      "Đồ thị với 9 đỉnh:\n",
      "----------------------------------------\n",
      "Đồ thị với 10 đỉnh:\n",
      "----------------------------------------\n",
      "Đồ thị với 11 đỉnh:\n",
      "----------------------------------------\n"
     ]
    }
   ],
   "execution_count": 49
  },
  {
   "metadata": {
    "ExecuteTime": {
     "end_time": "2025-04-30T16:10:12.721972Z",
     "start_time": "2025-04-30T16:10:12.564446Z"
    }
   },
   "cell_type": "code",
   "source": [
    "plt.figure(figsize=(10, 6))\n",
    "plt.plot(sizes, brute_force_times, label=\"Brute Force\", marker='o')\n",
    "plt.plot(sizes, branch_and_bound_times, label=\"Branch and Bound\", marker='s')\n",
    "plt.plot(sizes, dp_times, label=\"Dynamic Programming\", marker='^')\n",
    "plt.plot(sizes, christofides_times, label=\"Christofides\", marker='x')\n",
    "\n",
    "plt.xlabel('Số đỉnh')\n",
    "plt.ylabel('Time (s)')\n",
    "plt.title('So sánh thời gian chạy của các thuật toán TSP')\n",
    "plt.legend()\n",
    "plt.grid(True)\n",
    "plt.show()"
   ],
   "id": "7aa8c996fb4102b8",
   "outputs": [
    {
     "data": {
      "text/plain": [
       "<Figure size 1000x600 with 1 Axes>"
      ],
      "image/png": "[encoded data removed]"
     },
     "metadata": {},
     "output_type": "display_data"
    }
   ],
   "execution_count": 50
  }
 ],
 "metadata": {
  "kernelspec": {
   "display_name": "Python 3",
   "language": "python",
   "name": "python3"
  },
  "language_info": {
   "codemirror_mode": {
    "name": "ipython",
    "version": 2
   },
   "file_extension": ".py",
   "mimetype": "text/x-python",
   "name": "python",
   "nbconvert_exporter": "python",
   "pygments_lexer": "ipython2",
   "version": "2.7.6"
  }
 },
 "nbformat": 4,
 "nbformat_minor": 5
}
