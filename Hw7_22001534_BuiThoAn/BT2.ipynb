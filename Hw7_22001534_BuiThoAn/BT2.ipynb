{
 "cells": [
  {
   "metadata": {},
   "cell_type": "markdown",
   "source": "## Cho 2 xâu X, Y . Hãy tìm xâu con của X và của Y có độ dài lớn nhất. Biết xâu con của một xâu thu được khi xóa một số kí tự thuộc xâu đó (hoặc không xóa kí tự nào).",
   "id": "4b743dbd5b84cf40"
  },
  {
   "metadata": {},
   "cell_type": "markdown",
   "source": [
    "1. Đặt bài toán:\n",
    "Cho hai xâu X và Y, nhiệm vụ là tìm xâu con chung dài nhất (LCS) của hai xâu này. Xâu con chung là một xâu con của cả X và Y mà không cần các ký tự phải liên tiếp, nhưng thứ tự của chúng trong xâu phải được duy trì.\n",
    "\n",
    "2. Thiết kế thuật toán bằng phương pháp quy hoạch động:\n",
    "Ta sẽ sử dụng một bảng 2D dp, với dp[i][j] là độ dài của xâu con chung dài nhất giữa X[1..i] và Y[1..j].\n",
    "\n",
    "Quy tắc cập nhật bảng DP:\n",
    "Nếu X[i-1] == Y[j-1], ta có thể mở rộng xâu con chung, nên:\n",
    "\n",
    "𝑑𝑝[𝑖][𝑗]=𝑑𝑝[𝑖−1][𝑗−1]+1\n",
    "dp[i][j]=dp[i−1][j−1]+1\n",
    "Nếu X[i-1] != Y[j-1], xâu con chung dài nhất sẽ là độ dài lớn nhất giữa hai khả năng:\n",
    "\n",
    "𝑑𝑝[𝑖][𝑗]=max⁡(𝑑𝑝[𝑖−1][𝑗],𝑑𝑝[𝑖][𝑗−1])\n",
    "dp[i][j]=max(dp[i−1][j],dp[i][j−1])\n",
    "Điều kiện khởi tạo:\n",
    "dp[0][j] = 0 với tất cả j (xâu rỗng của X không có xâu con chung với Y).\n",
    "\n",
    "dp[i][0] = 0 với tất cả i (xâu rỗng của Y không có xâu con chung với X).\n",
    "\n",
    "3. Phân tích độ phức tạp:\n",
    "Độ phức tạp về thời gian của thuật toán là O(m * n), trong đó m và n lần lượt là độ dài của X và Y.\n",
    "\n",
    "Độ phức tạp về không gian là O(m * n) do cần một bảng 2D để lưu trữ kết quả."
   ],
   "id": "ae1e71ae367c9beb"
  },
  {
   "cell_type": "code",
   "id": "initial_id",
   "metadata": {
    "collapsed": true,
    "ExecuteTime": {
     "end_time": "2025-04-15T17:03:59.578476Z",
     "start_time": "2025-04-15T17:03:59.567884Z"
    }
   },
   "source": [
    "import random\n",
    "\n",
    "\n",
    "def longest_common_subsequence(X, Y):\n",
    "    m = len(X)\n",
    "    n = len(Y)\n",
    "\n",
    "    dp = [[0] * (n + 1) for _ in range(m + 1)]\n",
    "\n",
    "    for i in range(1, m + 1):\n",
    "        for j in range(1, n + 1):\n",
    "            if X[i - 1] == Y[j - 1]:\n",
    "                dp[i][j] = dp[i - 1][j - 1] + 1\n",
    "            else:\n",
    "                dp[i][j] = max(dp[i - 1][j], dp[i][j - 1])\n",
    "\n",
    "    lcs = []\n",
    "    i, j = m, n\n",
    "    while i > 0 and j > 0:\n",
    "        if X[i - 1] == Y[j - 1]:\n",
    "            lcs.append(X[i - 1])\n",
    "            i -= 1\n",
    "            j -= 1\n",
    "        elif dp[i - 1][j] >= dp[i][j - 1]:\n",
    "            i -= 1\n",
    "        else:\n",
    "            j -= 1\n",
    "\n",
    "    lcs.reverse()\n",
    "    return ''.join(lcs)\n",
    "\n",
    "\n",
    "# Test\n",
    "X = random.choices('ABCDEFGHIJKLMNOPQRSTUVWXYZ', k=20)\n",
    "Y = random.choices('ABCDEFGHIJKLMNOPQRSTUVWXYZ', k=20)\n",
    "\n",
    "result = longest_common_subsequence(X, Y)\n",
    "print(\"X:\", ''.join(X))\n",
    "print(\"Y:\", ''.join(Y))\n",
    "print(\"Result:\", result)"
   ],
   "outputs": [
    {
     "name": "stdout",
     "output_type": "stream",
     "text": [
      "X: FYTZRNIGOMDRCCBRWFRR\n",
      "Y: LGIZMIGLTBFUBDMWFYVO\n",
      "Result: ZIGMWF\n"
     ]
    }
   ],
   "execution_count": 17
  },
  {
   "metadata": {},
   "cell_type": "markdown",
   "source": "## Một xâu gọi là xâu đối xứng (palindrome) nếu xâu đó đọc từ trái sang phải hay từ phải sang trái đều như nhau. Cho một xâu S, hãy tìm số kí tự ít nhất cần thêm vào S để S trở thành xâu đối xứng.",
   "id": "df1739188415f2ca"
  },
  {
   "metadata": {},
   "cell_type": "markdown",
   "source": [
    "- Đặt bài toán:\n",
    "Cho một xâu S, nhiệm vụ là tìm số ký tự ít nhất cần thêm vào S để xâu trở thành xâu đối xứng.\n",
    "\n",
    "- Thiết kế thuật toán:\n",
    "Giả sử S là xâu ban đầu, ta đảo ngược S thành S_reverse.\n",
    "\n",
    "Áp dụng thuật toán LCS để tìm độ dài của xâu con chung dài nhất giữa S và S_reverse.\n",
    "\n",
    "Độ dài của xâu đối xứng cuối cùng cần phải thêm vào là len(S) - LCS(S, S_reverse).\n",
    "\n",
    "- Phân tích độ phức tạp:\n",
    "Độ phức tạp về thời gian: O(n^2), với n là độ dài của xâu S.\n",
    "\n",
    "Độ phức tạp về không gian: O(n^2) do bảng DP.1. Đặt bài toán:\n",
    "\n",
    "Cho một xâu S, nhiệm vụ là tìm số ký tự ít nhất cần thêm vào S để xâu trở thành xâu đối xứng.\n",
    "\n"
   ],
   "id": "ff4f1283c622ead"
  },
  {
   "metadata": {
    "ExecuteTime": {
     "end_time": "2025-04-15T17:08:38.948425Z",
     "start_time": "2025-04-15T17:08:38.936890Z"
    }
   },
   "cell_type": "code",
   "source": [
    "def min_chars_to_palindrome(S):\n",
    "    n = len(S)\n",
    "    S_reverse = S[::-1]\n",
    "\n",
    "    dp = [[0] * (n + 1) for _ in range(n + 1)]\n",
    "\n",
    "    for i in range(1, n + 1):\n",
    "        for j in range(1, n + 1):\n",
    "            if S[i - 1] == S_reverse[j - 1]:\n",
    "                dp[i][j] = dp[i - 1][j - 1] + 1\n",
    "            else:\n",
    "                dp[i][j] = max(dp[i - 1][j], dp[i][j - 1])\n",
    "\n",
    "    lcs_length = dp[n][n]\n",
    "    return n - lcs_length\n",
    "\n",
    "\n",
    "S = random.choices('ABCDEFGHIJKLMNOPQRSTUVWXYZ', k=20)\n",
    "print(min_chars_to_palindrome(S))\n"
   ],
   "id": "a376441455afeac2",
   "outputs": [
    {
     "name": "stdout",
     "output_type": "stream",
     "text": [
      "15\n"
     ]
    }
   ],
   "execution_count": 23
  },
  {
   "metadata": {},
   "cell_type": "markdown",
   "source": "## (Expression) Cho n số nguyên. Hãy chia chúng thành 2 nhóm sao cho tích của tổng 2 nhóm là lớn nhất.",
   "id": "fe47c1afd5e566be"
  },
  {
   "metadata": {},
   "cell_type": "markdown",
   "source": [
    "Sắp xếp dãy số: Sắp xếp dãy số theo giá trị tuyệt đối.\n",
    "\n",
    "Chia dãy thành 2 nhóm: Phân chia các phần tử vào 2 nhóm sao cho các phần tử lớn nhất được phân phối đồng đều vào mỗi nhóm.\n",
    "\n",
    "Tính tổng của mỗi nhóm và tính tích của chúng.\n",
    "\n",
    "Độ phức tạp về thời gian: O(n log n), do sắp xếp dãy số.\n",
    "\n",
    "Độ phức tạp về không gian: O(n), do lưu trữ dãy số và các nhóm."
   ],
   "id": "f59c27c7e3cffeab"
  },
  {
   "metadata": {
    "ExecuteTime": {
     "end_time": "2025-04-15T17:14:39.033800Z",
     "start_time": "2025-04-15T17:14:39.025795Z"
    }
   },
   "cell_type": "code",
   "source": [
    "def max_product_of_sums(arr):\n",
    "    arr.sort(key=abs, reverse=True)\n",
    "\n",
    "    group1_sum = 0\n",
    "    group2_sum = 0\n",
    "    group1 = []\n",
    "    group2 = []\n",
    "\n",
    "    for i in range(len(arr)):\n",
    "        if i % 2 == 0:\n",
    "            group1_sum += arr[i]\n",
    "            group1.append(arr[i])\n",
    "        else:\n",
    "            group2_sum += arr[i]\n",
    "            group2.append(arr[i])\n",
    "\n",
    "    print(group1)\n",
    "    print(group2)\n",
    "    return group1_sum * group2_sum\n",
    "\n",
    "arr = random.choices(range(-100, 100), k=11)\n",
    "print(arr)\n",
    "print(\"Max product of sums:\", max_product_of_sums(arr))"
   ],
   "id": "1094cb5da6f7d2a8",
   "outputs": [
    {
     "name": "stdout",
     "output_type": "stream",
     "text": [
      "[22, 52, -89, 79, -69, 10, 66, -24, 41, 49, 3]\n",
      "[-89, -69, 52, 41, 22, 3]\n",
      "[79, 66, 49, -24, 10]\n",
      "Max product of sums: -7200\n"
     ]
    }
   ],
   "execution_count": 47
  }
 ],
 "metadata": {
  "kernelspec": {
   "display_name": "Python 3",
   "language": "python",
   "name": "python3"
  },
  "language_info": {
   "codemirror_mode": {
    "name": "ipython",
    "version": 2
   },
   "file_extension": ".py",
   "mimetype": "text/x-python",
   "name": "python",
   "nbconvert_exporter": "python",
   "pygments_lexer": "ipython2",
   "version": "2.7.6"
  }
 },
 "nbformat": 4,
 "nbformat_minor": 5
}
