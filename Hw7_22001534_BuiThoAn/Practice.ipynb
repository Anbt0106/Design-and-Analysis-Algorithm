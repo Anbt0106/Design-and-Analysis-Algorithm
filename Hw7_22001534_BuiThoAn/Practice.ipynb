{
 "cells": [
  {
   "cell_type": "code",
   "id": "initial_id",
   "metadata": {
    "collapsed": true,
    "ExecuteTime": {
     "end_time": "2025-04-15T13:27:25.556007Z",
     "start_time": "2025-04-15T13:27:25.524344Z"
    }
   },
   "source": [
    "# Đệ quy\n",
    "def T(n):\n",
    "    if n == 0:\n",
    "        return 2\n",
    "    elif n == 1:\n",
    "        return 2\n",
    "    else:\n",
    "        return sum(2 * T(i) * T(i - 1) for i in range(1, n))\n",
    "\n",
    "\n",
    "print(T(5))"
   ],
   "outputs": [
    {
     "name": "stdout",
     "output_type": "stream",
     "text": [
      "55080\n"
     ]
    }
   ],
   "execution_count": 1
  },
  {
   "metadata": {
    "ExecuteTime": {
     "end_time": "2025-04-15T13:27:25.578053Z",
     "start_time": "2025-04-15T13:27:25.561937Z"
    }
   },
   "cell_type": "code",
   "source": [
    "# Quy hoạch động\n",
    "\n",
    "def T_dp(n):\n",
    "    if n == 0 or n == 1:\n",
    "        return 2\n",
    "\n",
    "    dp = [0] * (n + 1)  # list\n",
    "    dp[0] = dp[1] = 2\n",
    "\n",
    "    for j in range(2, n + 1):\n",
    "        dp[j] = sum(2 * dp[i] * dp[i - 1] for i in range(1, j))\n",
    "\n",
    "    return dp[n]\n",
    "\n",
    "\n",
    "print(T_dp(5))\n"
   ],
   "id": "166c97d118f5cbee",
   "outputs": [
    {
     "name": "stdout",
     "output_type": "stream",
     "text": [
      "55080\n"
     ]
    }
   ],
   "execution_count": 2
  },
  {
   "metadata": {
    "ExecuteTime": {
     "end_time": "2025-04-15T13:27:26.007845Z",
     "start_time": "2025-04-15T13:27:25.991757Z"
    }
   },
   "cell_type": "code",
   "source": [
    "# cải thiện quy hoạch động với độ phức tạp O(n)\n",
    "\n",
    "def T_dp_optimized(n):\n",
    "    if n == 0 or n == 1:\n",
    "        return 2\n",
    "\n",
    "    dp = [0] * (n + 1)\n",
    "    dp[0] = dp[1] = 2\n",
    "\n",
    "    S = 0\n",
    "    for i in range(2, n + 1):\n",
    "        S = S + 2 * dp[i - 1] * dp[i - 2]\n",
    "        dp[i] = S\n",
    "\n",
    "    return dp[n]\n",
    "\n",
    "\n",
    "print(T_dp_optimized(5))\n",
    "\n"
   ],
   "id": "d805fc9c780f8b9c",
   "outputs": [
    {
     "name": "stdout",
     "output_type": "stream",
     "text": [
      "55080\n"
     ]
    }
   ],
   "execution_count": 3
  },
  {
   "metadata": {
    "ExecuteTime": {
     "end_time": "2025-04-15T13:27:26.038859Z",
     "start_time": "2025-04-15T13:27:26.023709Z"
    }
   },
   "cell_type": "code",
   "source": [
    "# Maximum Value Contiguous Subsequence\n",
    "\n",
    "def mvcs(arr): # cre: leetcode Kadane's Algorithm\n",
    "    max_sum  = min(arr)\n",
    "    current_sum = 0\n",
    "\n",
    "    for num in arr:\n",
    "        current_sum += num\n",
    "        max_sum = max(max_sum, current_sum)\n",
    "        if current_sum < 0:\n",
    "            current_sum = 0\n",
    "    return max_sum\n",
    "\n",
    "mvcs([-2, 11, -4, 13, -5, 2])\n",
    "mvcs([1, -3, 4, -2, -1, 6])"
   ],
   "id": "d4d7170da57eb721",
   "outputs": [
    {
     "data": {
      "text/plain": [
       "7"
      ]
     },
     "execution_count": 4,
     "metadata": {},
     "output_type": "execute_result"
    }
   ],
   "execution_count": 4
  },
  {
   "metadata": {
    "ExecuteTime": {
     "end_time": "2025-04-15T13:27:26.102427Z",
     "start_time": "2025-04-15T13:27:26.070553Z"
    }
   },
   "cell_type": "code",
   "source": [
    "def mvcs_dp(arr):\n",
    "    n = len(arr)\n",
    "    if n == 0:\n",
    "        return 0  # Mảng rỗng\n",
    "\n",
    "    dp = [0] * n\n",
    "    dp[0] = arr[0]\n",
    "    max_sum = dp[0]\n",
    "\n",
    "    for i in range(1, n):\n",
    "        dp[i] = max(arr[i], dp[i-1] + arr[i])\n",
    "        max_sum = max(max_sum, dp[i])\n",
    "\n",
    "    return max_sum\n",
    "\n",
    "print(mvcs_dp([-2, 11, -4, 13, -5, 2]))   # Output: 20\n",
    "print(mvcs_dp([1, -3, 4, -2, -1, 6]))     # Output: 7\n"
   ],
   "id": "cbc47efc8c5290fd",
   "outputs": [
    {
     "name": "stdout",
     "output_type": "stream",
     "text": [
      "20\n",
      "7\n"
     ]
    }
   ],
   "execution_count": 5
  },
  {
   "metadata": {
    "ExecuteTime": {
     "end_time": "2025-04-15T13:27:26.134032Z",
     "start_time": "2025-04-15T13:27:26.120125Z"
    }
   },
   "cell_type": "code",
   "source": [
    "def mvcs_dp(arr):\n",
    "    n = len(arr)\n",
    "    if n == 0:\n",
    "        return 0  # Mảng rỗng\n",
    "\n",
    "    dp = [0] * n\n",
    "    dp[0] = arr[0]\n",
    "    max_sum = dp[0]\n",
    "\n",
    "    for i in range(1, n):\n",
    "        dp[i] = max(arr[i], dp[i-1] + arr[i])\n",
    "        max_sum = max(max_sum, dp[i])\n",
    "\n",
    "    return max_sum\n",
    "\n",
    "# Test cases\n",
    "print(mvcs_dp([-2, 11, -4, 13, -5, 2]))   # Output: 20\n",
    "print(mvcs_dp([1, -3, 4, -2, -1, 6]))     # Output: 7\n",
    "print(mvcs_dp([-1, -2, -3, -4]))          # Output: -1\n"
   ],
   "id": "1e1aa5f638ebafca",
   "outputs": [
    {
     "name": "stdout",
     "output_type": "stream",
     "text": [
      "20\n",
      "7\n",
      "-1\n"
     ]
    }
   ],
   "execution_count": 6
  }
 ],
 "metadata": {
  "kernelspec": {
   "display_name": "Python 3",
   "language": "python",
   "name": "python3"
  },
  "language_info": {
   "codemirror_mode": {
    "name": "ipython",
    "version": 2
   },
   "file_extension": ".py",
   "mimetype": "text/x-python",
   "name": "python",
   "nbconvert_exporter": "python",
   "pygments_lexer": "ipython2",
   "version": "2.7.6"
  }
 },
 "nbformat": 4,
 "nbformat_minor": 5
}
