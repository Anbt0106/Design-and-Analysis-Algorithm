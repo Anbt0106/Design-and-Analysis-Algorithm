{
 "cells": [
  {
   "cell_type": "code",
   "id": "initial_id",
   "metadata": {
    "collapsed": true,
    "ExecuteTime": {
     "end_time": "2025-03-04T14:48:40.352213Z",
     "start_time": "2025-03-04T14:48:40.332495Z"
    }
   },
   "source": [
    "\n",
    "def count_ways(m, n, k):\n",
    "    if n == 1:\n",
    "        return 1 if m % n == 0 and m // n >= k else 0\n",
    "\n",
    "    ways = 0\n",
    "    for x in range(k, m // n + 1):\n",
    "        ways += count_ways(m - x, n - 1, x)\n",
    "\n",
    "    return ways\n",
    "\n",
    "\n",
    "# Test\n",
    "def main():\n",
    "    k = 1  # phần thưởng ít nhất\n",
    "    m = 10  # phần thưởng\n",
    "    n = 3  # học sinh\n",
    "    print(f\"Số cách chia phần thưởng: {count_ways(m, n, k)}\")\n",
    "\n",
    "\n",
    "if __name__ == \"__main__\":\n",
    "    main()"
   ],
   "outputs": [
    {
     "name": "stdout",
     "output_type": "stream",
     "text": [
      "Số cách chia phần thưởng: 8\n"
     ]
    }
   ],
   "execution_count": 10
  }
 ],
 "metadata": {
  "kernelspec": {
   "display_name": "Python 3",
   "language": "python",
   "name": "python3"
  },
  "language_info": {
   "codemirror_mode": {
    "name": "ipython",
    "version": 2
   },
   "file_extension": ".py",
   "mimetype": "text/x-python",
   "name": "python",
   "nbconvert_exporter": "python",
   "pygments_lexer": "ipython2",
   "version": "2.7.6"
  }
 },
 "nbformat": 4,
 "nbformat_minor": 5
}
